{
 "cells": [
  {
   "cell_type": "code",
   "execution_count": 23,
   "metadata": {},
   "outputs": [],
   "source": [
    "import pandas as pd\n",
    "\n",
    "df = pd.read_parquet('yelp_academic_dataset_business_cleaned.parquet')\n",
    "\n",
    "df.to_csv('yelp_academic_dataset_business_cleaned.csv', index=False)"
   ]
  },
  {
   "cell_type": "code",
   "execution_count": 3,
   "metadata": {},
   "outputs": [
    {
     "ename": "NameError",
     "evalue": "name 'pd' is not defined",
     "output_type": "error",
     "traceback": [
      "\u001b[1;31m---------------------------------------------------------------------------\u001b[0m",
      "\u001b[1;31mNameError\u001b[0m                                 Traceback (most recent call last)",
      "Cell \u001b[1;32mIn[3], line 8\u001b[0m\n\u001b[0;32m      5\u001b[0m \u001b[38;5;28;01mimport\u001b[39;00m \u001b[38;5;21;01mnumpy\u001b[39;00m \u001b[38;5;28;01mas\u001b[39;00m \u001b[38;5;21;01mnp\u001b[39;00m\n\u001b[0;32m      7\u001b[0m \u001b[38;5;66;03m# Reduzir o número de amostras para 10.000\u001b[39;00m\n\u001b[1;32m----> 8\u001b[0m df \u001b[38;5;241m=\u001b[39m \u001b[43mpd\u001b[49m\u001b[38;5;241m.\u001b[39mread_csv(\u001b[38;5;124m'\u001b[39m\u001b[38;5;124myelp_academic_dataset_business_cleaned.csv\u001b[39m\u001b[38;5;124m'\u001b[39m)\n\u001b[0;32m      9\u001b[0m sampled_df \u001b[38;5;241m=\u001b[39m df\u001b[38;5;241m.\u001b[39msample(n\u001b[38;5;241m=\u001b[39m\u001b[38;5;241m10000\u001b[39m, random_state\u001b[38;5;241m=\u001b[39m\u001b[38;5;241m2\u001b[39m)\n\u001b[0;32m     10\u001b[0m clustering_data \u001b[38;5;241m=\u001b[39m sampled_df\u001b[38;5;241m.\u001b[39mvalues\n",
      "\u001b[1;31mNameError\u001b[0m: name 'pd' is not defined"
     ]
    }
   ],
   "source": [
    "import matplotlib.pyplot as plt\n",
    "from sklearn.preprocessing import MinMaxScaler\n",
    "from sklearn.cluster import KMeans\n",
    "from sklearn.metrics import silhouette_score\n",
    "import pandas as pd\n",
    "import numpy as np\n",
    "\n",
    "# Reduzir o número de amostras para 10.000\n",
    "df = pd.read_csv('yelp_academic_dataset_business_cleaned.csv')\n",
    "sampled_df = df.sample(n=10000, random_state=2)\n",
    "clustering_data = sampled_df.values\n",
    "\n",
    "# Normalizar os dados\n",
    "scaler = MinMaxScaler()\n",
    "normalized_data = scaler.fit_transform(clustering_data)\n",
    "\n",
    "# Técnica do cotovelo\n",
    "inertia = []\n",
    "for n in range(1, 11):\n",
    "    kmeans = KMeans(n_clusters=n)\n",
    "    kmeans.fit(normalized_data)\n",
    "    inertia.append(kmeans.inertia_)\n",
    "\n",
    "plt.figure(figsize=(8, 4))\n",
    "plt.plot(range(1, 11), inertia, marker='o')\n",
    "plt.xlabel('Número de Clusters')\n",
    "plt.ylabel('Inércia')\n",
    "plt.title('Método do Cotovelo')\n",
    "plt.show()\n",
    "\n",
    "# Técnica da silhueta\n",
    "silhouette_scores = []\n",
    "for n in range(2, 11):\n",
    "    kmeans = KMeans(n_clusters=n)\n",
    "    kmeans_labels = kmeans.fit_predict(normalized_data)\n",
    "    silhouette_scores.append(silhouette_score(normalized_data, kmeans_labels))\n",
    "\n",
    "plt.figure(figsize=(8, 4))\n",
    "plt.plot(range(2, 11), silhouette_scores, marker='o')\n",
    "plt.xlabel('Número de Clusters')\n",
    "plt.ylabel('Pontuação da Silhueta')\n",
    "plt.title('Método da Silhueta')\n",
    "plt.show()\n",
    "\n",
    "# Definir o modelo\n",
    "kmeans_model = KMeans(n_clusters=6)\n",
    "\n",
    "# Atribuir cada ponto de dados a um cluster\n",
    "kmeans_result = kmeans_model.fit_predict(normalized_data)\n",
    "\n",
    "# Obter todos os clusters únicos\n",
    "kmeans_clusters = np.unique(kmeans_result)\n",
    "\n",
    "# Plotar os clusters do KMeans\n",
    "for kmeans_cluster in kmeans_clusters:\n",
    "    # Obter pontos de dados que pertencem a este cluster\n",
    "    index = np.where(kmeans_result == kmeans_cluster)\n",
    "    # Fazer o plot\n",
    "    plt.scatter(normalized_data[index, 0], normalized_data[index, 1])\n",
    "\n",
    "# Mostrar o plot do KMeans\n",
    "plt.xlabel('Latitude')\n",
    "plt.ylabel('Longitude')\n",
    "plt.title('KMeans Clustering of Yelp Business Data')\n",
    "plt.show()\n"
   ]
  }
 ],
 "metadata": {
  "kernelspec": {
   "display_name": ".venv",
   "language": "python",
   "name": "python3"
  },
  "language_info": {
   "codemirror_mode": {
    "name": "ipython",
    "version": 3
   },
   "file_extension": ".py",
   "mimetype": "text/x-python",
   "name": "python",
   "nbconvert_exporter": "python",
   "pygments_lexer": "ipython3",
   "version": "3.9.13"
  }
 },
 "nbformat": 4,
 "nbformat_minor": 2
}
