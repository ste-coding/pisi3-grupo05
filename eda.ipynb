{
 "cells": [
  {
   "cell_type": "markdown",
   "metadata": {},
   "source": [
    "# Carregando os Dados do Yelp\n",
    "Nesta célula, estamos importando a biblioteca 'pandas' e carregando os dados do arquivo `yelp_academic_dataset_business.parquet` para a variável `df_negocios`, que contém informações sobre os negócios do Yelp. Este arquivo é um conjunto de dados limpo, já com as informações essenciais."
   ]
  },
  {
   "cell_type": "code",
   "execution_count": 6,
   "metadata": {},
   "outputs": [],
   "source": [
    "\n",
    "import pandas as pd\n",
    "\n",
    "\n",
    "file_path = 'yelp_academic_dataset_business.parquet'\n",
    "df_negocios = pd.read_parquet(file_path)\n"
   ]
  },
  {
   "cell_type": "markdown",
   "metadata": {},
   "source": [
    "# Visualizando Descrição Estatística dos Dados\n",
    " A utilização do método describe() permite uma análise rápida das principais métricas estatísticas para as colunas numéricas do conjunto de dados. Isso nos fornece uma visão geral das distribuições, incluindo tendências centrais como médias, variações (desvios padrão) e os extremos dos dados. Esses insights são cruciais para entender a variabilidade e identificar possíveis anomalias ou padrões que merecem atenção mais profunda, como valores extremos ou dados faltantes."
   ]
  },
  {
   "cell_type": "code",
   "execution_count": 7,
   "metadata": {
    "vscode": {
     "languageId": "ruby"
    }
   },
   "outputs": [
    {
     "data": {
      "text/html": [
       "<div>\n",
       "<style scoped>\n",
       "    .dataframe tbody tr th:only-of-type {\n",
       "        vertical-align: middle;\n",
       "    }\n",
       "\n",
       "    .dataframe tbody tr th {\n",
       "        vertical-align: top;\n",
       "    }\n",
       "\n",
       "    .dataframe thead th {\n",
       "        text-align: right;\n",
       "    }\n",
       "</style>\n",
       "<table border=\"1\" class=\"dataframe\">\n",
       "  <thead>\n",
       "    <tr style=\"text-align: right;\">\n",
       "      <th></th>\n",
       "      <th>latitude</th>\n",
       "      <th>longitude</th>\n",
       "      <th>stars</th>\n",
       "      <th>review_count</th>\n",
       "      <th>is_open</th>\n",
       "    </tr>\n",
       "  </thead>\n",
       "  <tbody>\n",
       "    <tr>\n",
       "      <th>count</th>\n",
       "      <td>150346.000000</td>\n",
       "      <td>150346.000000</td>\n",
       "      <td>150346.000000</td>\n",
       "      <td>150346.000000</td>\n",
       "      <td>150346.00000</td>\n",
       "    </tr>\n",
       "    <tr>\n",
       "      <th>mean</th>\n",
       "      <td>36.671150</td>\n",
       "      <td>-89.357339</td>\n",
       "      <td>3.596724</td>\n",
       "      <td>44.866561</td>\n",
       "      <td>0.79615</td>\n",
       "    </tr>\n",
       "    <tr>\n",
       "      <th>std</th>\n",
       "      <td>5.872759</td>\n",
       "      <td>14.918502</td>\n",
       "      <td>0.974421</td>\n",
       "      <td>121.120136</td>\n",
       "      <td>0.40286</td>\n",
       "    </tr>\n",
       "    <tr>\n",
       "      <th>min</th>\n",
       "      <td>27.555127</td>\n",
       "      <td>-120.095137</td>\n",
       "      <td>1.000000</td>\n",
       "      <td>5.000000</td>\n",
       "      <td>0.00000</td>\n",
       "    </tr>\n",
       "    <tr>\n",
       "      <th>25%</th>\n",
       "      <td>32.187293</td>\n",
       "      <td>-90.357810</td>\n",
       "      <td>3.000000</td>\n",
       "      <td>8.000000</td>\n",
       "      <td>1.00000</td>\n",
       "    </tr>\n",
       "    <tr>\n",
       "      <th>50%</th>\n",
       "      <td>38.777413</td>\n",
       "      <td>-86.121179</td>\n",
       "      <td>3.500000</td>\n",
       "      <td>15.000000</td>\n",
       "      <td>1.00000</td>\n",
       "    </tr>\n",
       "    <tr>\n",
       "      <th>75%</th>\n",
       "      <td>39.954036</td>\n",
       "      <td>-75.421542</td>\n",
       "      <td>4.500000</td>\n",
       "      <td>37.000000</td>\n",
       "      <td>1.00000</td>\n",
       "    </tr>\n",
       "    <tr>\n",
       "      <th>max</th>\n",
       "      <td>53.679197</td>\n",
       "      <td>-73.200457</td>\n",
       "      <td>5.000000</td>\n",
       "      <td>7568.000000</td>\n",
       "      <td>1.00000</td>\n",
       "    </tr>\n",
       "  </tbody>\n",
       "</table>\n",
       "</div>"
      ],
      "text/plain": [
       "            latitude      longitude          stars   review_count  \\\n",
       "count  150346.000000  150346.000000  150346.000000  150346.000000   \n",
       "mean       36.671150     -89.357339       3.596724      44.866561   \n",
       "std         5.872759      14.918502       0.974421     121.120136   \n",
       "min        27.555127    -120.095137       1.000000       5.000000   \n",
       "25%        32.187293     -90.357810       3.000000       8.000000   \n",
       "50%        38.777413     -86.121179       3.500000      15.000000   \n",
       "75%        39.954036     -75.421542       4.500000      37.000000   \n",
       "max        53.679197     -73.200457       5.000000    7568.000000   \n",
       "\n",
       "            is_open  \n",
       "count  150346.00000  \n",
       "mean        0.79615  \n",
       "std         0.40286  \n",
       "min         0.00000  \n",
       "25%         1.00000  \n",
       "50%         1.00000  \n",
       "75%         1.00000  \n",
       "max         1.00000  "
      ]
     },
     "execution_count": 7,
     "metadata": {},
     "output_type": "execute_result"
    }
   ],
   "source": [
    "df_negocios.describe()"
   ]
  },
  {
   "cell_type": "markdown",
   "metadata": {},
   "source": [
    "# Informações sobre o DataFrame\n",
    "A função df_negocios.info() fornece uma visão geral sobre a estrutura do DataFrame, destacando os tipos de dados de cada coluna e a quantidade de valores não nulos. Esse passo é essencial para avaliar a qualidade dos dados, identificar colunas com valores ausentes e garantir que o tipo de dado esteja adequado para as análises subsequentes. Com essas informações, podemos tomar decisões informadas sobre como tratar dados faltantes e realizar conversões de tipo de dados, se necessário.\n"
   ]
  },
  {
   "cell_type": "code",
   "execution_count": 8,
   "metadata": {
    "vscode": {
     "languageId": "ruby"
    }
   },
   "outputs": [
    {
     "name": "stdout",
     "output_type": "stream",
     "text": [
      "<class 'pandas.core.frame.DataFrame'>\n",
      "RangeIndex: 150346 entries, 0 to 150345\n",
      "Data columns (total 14 columns):\n",
      " #   Column        Non-Null Count   Dtype  \n",
      "---  ------        --------------   -----  \n",
      " 0   business_id   150346 non-null  object \n",
      " 1   name          150346 non-null  object \n",
      " 2   address       150346 non-null  object \n",
      " 3   city          150346 non-null  object \n",
      " 4   state         150346 non-null  object \n",
      " 5   postal_code   150346 non-null  object \n",
      " 6   latitude      150346 non-null  float64\n",
      " 7   longitude     150346 non-null  float64\n",
      " 8   stars         150346 non-null  float64\n",
      " 9   review_count  150346 non-null  int64  \n",
      " 10  is_open       150346 non-null  int64  \n",
      " 11  attributes    136602 non-null  object \n",
      " 12  categories    150243 non-null  object \n",
      " 13  hours         127123 non-null  object \n",
      "dtypes: float64(3), int64(2), object(9)\n",
      "memory usage: 16.1+ MB\n",
      "None\n"
     ]
    }
   ],
   "source": [
    "print(df_negocios.info())"
   ]
  },
  {
   "cell_type": "markdown",
   "metadata": {},
   "source": [
    "# Contagem de Valores Nulos\n",
    "A verificação de valores nulos com isnull().sum() oferece uma visão clara da integridade dos dados no DataFrame. Isso nos ajuda a identificar colunas que podem precisar de limpeza ou imputação de valores ausentes, o que é crucial para garantir a precisão e a consistência das análises. Dados faltantes podem impactar negativamente os resultados de modelos analíticos, tornando esse passo essencial antes de prosseguir com as etapas de modelagem e visualização.\n"
   ]
  },
  {
   "cell_type": "code",
   "execution_count": 9,
   "metadata": {
    "vscode": {
     "languageId": "ruby"
    }
   },
   "outputs": [
    {
     "name": "stdout",
     "output_type": "stream",
     "text": [
      "business_id         0\n",
      "name                0\n",
      "address             0\n",
      "city                0\n",
      "state               0\n",
      "postal_code         0\n",
      "latitude            0\n",
      "longitude           0\n",
      "stars               0\n",
      "review_count        0\n",
      "is_open             0\n",
      "attributes      13744\n",
      "categories        103\n",
      "hours           23223\n",
      "dtype: int64\n"
     ]
    }
   ],
   "source": [
    "print(df_negocios.isnull().sum())"
   ]
  },
  {
   "cell_type": "markdown",
   "metadata": {},
   "source": [
    "# Removendo Duplicatas\n",
    "Remover duplicatas com base na coluna business_id assegura que cada negócio esteja representado apenas uma vez no conjunto de dados, eliminando redundâncias. Isso é fundamental para evitar distorções nas análises e garantir que métricas como média, contagem e distribuições sejam calculadas de forma precisa, sem a influência de registros repetidos.\n"
   ]
  },
  {
   "cell_type": "code",
   "execution_count": 10,
   "metadata": {
    "vscode": {
     "languageId": "ruby"
    }
   },
   "outputs": [],
   "source": [
    "df_negocios = df_negocios.drop_duplicates(subset=['business_id'], keep='first')"
   ]
  },
  {
   "cell_type": "markdown",
   "metadata": {},
   "source": [
    "# Remoção de Colunas Desnecessárias\n",
    "A remoção das colunas 'is_open' e 'postal_code' refina o conjunto de dados, eliminando informações que não agregam valor à análise dos negócios do Yelp. Essa prática otimiza a performance da análise, tornando o DataFrame mais enxuto e focado nas variáveis mais relevantes, ajudando a reduzir a complexidade e melhorar a clareza nas interpretações.\n"
   ]
  },
  {
   "cell_type": "code",
   "execution_count": 11,
   "metadata": {},
   "outputs": [],
   "source": [
    "df_negocios = df_negocios.drop(columns=['is_open', 'postal_code'])"
   ]
  },
  {
   "cell_type": "code",
   "execution_count": 5,
   "metadata": {
    "vscode": {
     "languageId": "ruby"
    }
   },
   "outputs": [
    {
     "name": "stdout",
     "output_type": "stream",
     "text": [
      "Percentual de dados excluídos: 21.77%\n"
     ]
    }
   ],
   "source": [
    "excluidos = (len(df_negocios) - len(df_negocios.dropna())) / len(df_negocios) * 100\n",
    "print(f\"Percentual de dados excluídos: {excluidos:.2f}%\")"
   ]
  },
  {
   "cell_type": "markdown",
   "metadata": {},
   "source": [
    "# Filtragem de Coordenadas Geográficas Válidas\n",
    "A filtragem das coordenadas geográficas assegura que os dados estejam dentro de um contexto realista, eliminando registros com valores de latitude e longitude inválidos. Isso é crucial para garantir que as análises geoespaciais, como visualizações de mapa ou clustering de localização, sejam precisas e relevantes, evitando distorções nos resultados.\n"
   ]
  },
  {
   "cell_type": "code",
   "execution_count": 3,
   "metadata": {},
   "outputs": [],
   "source": [
    "\n",
    "df_negocios = df_negocios[(df_negocios['latitude'].between(-90, 90)) & (df_negocios['longitude'].between(-180, 180))]"
   ]
  },
  {
   "cell_type": "markdown",
   "metadata": {},
   "source": [
    "# Exibindo as Colunas do DataFrame\n",
    " Verificar as colunas do DataFrame ajuda a entender a estrutura do conjunto de dados e a identificar quais informações estão presentes para análise. Essa visualização é fundamental para garantir que os dados contenham as variáveis necessárias antes de realizar qualquer análise ou transformação adicional.\n"
   ]
  },
  {
   "cell_type": "code",
   "execution_count": 4,
   "metadata": {},
   "outputs": [
    {
     "name": "stdout",
     "output_type": "stream",
     "text": [
      "['business_id', 'name', 'address', 'city', 'state', 'postal_code', 'latitude', 'longitude', 'stars', 'review_count', 'is_open', 'attributes', 'categories', 'hours']\n"
     ]
    }
   ],
   "source": [
    "columns = list(df_negocios.columns)\n",
    "print(columns)"
   ]
  },
  {
   "cell_type": "markdown",
   "metadata": {},
   "source": [
    "# Remoção de Linhas com Valores Nulos na Coluna 'categories'\n",
    "A remoção de linhas com valores nulos na coluna 'categories' é essencial para garantir a qualidade dos dados antes de realizar análises baseadas em categorias. Esse processo elimina registros incompletos que poderiam afetar a precisão das conclusões, especialmente quando a coluna 'categories' é fundamental para segmentar ou agrupar os negócios."
   ]
  },
  {
   "cell_type": "code",
   "execution_count": 12,
   "metadata": {},
   "outputs": [
    {
     "name": "stdout",
     "output_type": "stream",
     "text": [
      "<class 'pandas.core.frame.DataFrame'>\n",
      "Index: 150243 entries, 0 to 150345\n",
      "Data columns (total 12 columns):\n",
      " #   Column        Non-Null Count   Dtype  \n",
      "---  ------        --------------   -----  \n",
      " 0   business_id   150243 non-null  object \n",
      " 1   name          150243 non-null  object \n",
      " 2   address       150243 non-null  object \n",
      " 3   city          150243 non-null  object \n",
      " 4   state         150243 non-null  object \n",
      " 5   latitude      150243 non-null  float64\n",
      " 6   longitude     150243 non-null  float64\n",
      " 7   stars         150243 non-null  float64\n",
      " 8   review_count  150243 non-null  int64  \n",
      " 9   attributes    136601 non-null  object \n",
      " 10  categories    150243 non-null  object \n",
      " 11  hours         127123 non-null  object \n",
      "dtypes: float64(3), int64(1), object(8)\n",
      "memory usage: 14.9+ MB\n",
      "None\n"
     ]
    }
   ],
   "source": [
    "columns_check = ['categories']\n",
    "df_negocios = df_negocios.dropna(subset=columns_check)\n",
    "print(df_negocios.info())"
   ]
  },
  {
   "cell_type": "markdown",
   "metadata": {},
   "source": [
    "# Extração dos Horários de Funcionamento\n",
    "A extração dos horários de funcionamento de cada dia da semana permite uma análise mais detalhada sobre a disponibilidade dos negócios, segmentando os dados por dia. Isso facilita a visualização de padrões e tendências, como horários de pico ou dias de maior movimento, fornecendo informações valiosas para a otimização das operações dos negócios no Yelp.\n"
   ]
  },
  {
   "cell_type": "code",
   "execution_count": 13,
   "metadata": {},
   "outputs": [
    {
     "name": "stdout",
     "output_type": "stream",
     "text": [
      "              business_id                      name  \\\n",
      "0  Pns2l4eNsfO8kk83dixA6A  Abby Rappoport, LAC, CMQ   \n",
      "1  mpf3x-BjTdTEA3yCZrAYPw             The UPS Store   \n",
      "2  tUFrWirKiKi_TAnsVWINQQ                    Target   \n",
      "3  MTSW4McQd7CbVtyjqoe9mw        St Honore Pastries   \n",
      "4  mWMc6_wTdE0EUBKIGXDVfA  Perkiomen Valley Brewery   \n",
      "\n",
      "                           address           city state   latitude  \\\n",
      "0           1616 Chapala St, Ste 2  Santa Barbara    CA  34.426679   \n",
      "1  87 Grasso Plaza Shopping Center         Affton    MO  38.551126   \n",
      "2             5255 E Broadway Blvd         Tucson    AZ  32.223236   \n",
      "3                      935 Race St   Philadelphia    PA  39.955505   \n",
      "4                    101 Walnut St     Green Lane    PA  40.338183   \n",
      "\n",
      "    longitude  stars  review_count  \\\n",
      "0 -119.711197    5.0             7   \n",
      "1  -90.335695    3.0            15   \n",
      "2 -110.880452    3.5            22   \n",
      "3  -75.155564    4.0            80   \n",
      "4  -75.471659    4.5            13   \n",
      "\n",
      "                                          attributes  \\\n",
      "0  {'AcceptsInsurance': None, 'AgesAllowed': None...   \n",
      "1  {'AcceptsInsurance': None, 'AgesAllowed': None...   \n",
      "2  {'AcceptsInsurance': None, 'AgesAllowed': None...   \n",
      "3  {'AcceptsInsurance': None, 'AgesAllowed': None...   \n",
      "4  {'AcceptsInsurance': None, 'AgesAllowed': None...   \n",
      "\n",
      "                                          categories hours_Monday  \\\n",
      "0  Doctors, Traditional Chinese Medicine, Naturop...         None   \n",
      "1  Shipping Centers, Local Services, Notaries, Ma...      0:0-0:0   \n",
      "2  Department Stores, Shopping, Fashion, Home & G...     8:0-22:0   \n",
      "3  Restaurants, Food, Bubble Tea, Coffee & Tea, B...     7:0-20:0   \n",
      "4                          Brewpubs, Breweries, Food         None   \n",
      "\n",
      "  hours_Tuesday hours_Wednesday hours_Thursday hours_Friday hours_Saturday  \\\n",
      "0          None            None           None         None           None   \n",
      "1     8:0-18:30       8:0-18:30      8:0-18:30    8:0-18:30       8:0-14:0   \n",
      "2      8:0-22:0        8:0-22:0       8:0-22:0     8:0-23:0       8:0-23:0   \n",
      "3      7:0-20:0        7:0-20:0       7:0-20:0     7:0-21:0       7:0-21:0   \n",
      "4          None       14:0-22:0      16:0-22:0    12:0-22:0      12:0-22:0   \n",
      "\n",
      "  hours_Sunday  \n",
      "0         None  \n",
      "1         None  \n",
      "2     8:0-22:0  \n",
      "3     7:0-21:0  \n",
      "4    12:0-18:0  \n"
     ]
    }
   ],
   "source": [
    "def extract_hours(hours):\n",
    "    if pd.isnull(hours):\n",
    "        return pd.Series([None] * 7, index=['hours_Monday', 'hours_Tuesday', 'hours_Wednesday', 'hours_Thursday', 'hours_Friday', 'hours_Saturday', 'hours_Sunday'])\n",
    "    else:\n",
    "        days = ['Monday', 'Tuesday', 'Wednesday', 'Thursday', 'Friday', 'Saturday', 'Sunday']\n",
    "        return pd.Series([hours.get(day, None) if isinstance(hours, dict) else None for day in days], index=['hours_Monday', 'hours_Tuesday', 'hours_Wednesday', 'hours_Thursday', 'hours_Friday', 'hours_Saturday', 'hours_Sunday'])\n",
    "\n",
    "# Aplicar a função de extração de horários\n",
    "df_hours = df_negocios['hours'].apply(extract_hours)\n",
    "df_negocios = pd.concat([df_negocios, df_hours], axis=1)\n",
    "df_negocios.drop('hours', axis=1, inplace=True)\n",
    "\n",
    "pd.set_option('display.max_columns', None)\n",
    "print(df_negocios.head())"
   ]
  },
  {
   "cell_type": "markdown",
   "metadata": {},
   "source": [
    "# Extração dos Atributos em Colunas Separadas\n",
    "A função `extract_attributes` foi aplicada para separar os atributos da coluna `'attributes'`, o que permite uma análise mais granular de diferentes características dos negócios. Com isso, transformamos informações compostas em colunas independentes, facilitando a exploração e a visualização de dados. Esse processo de \"descompactação\" é crucial para garantir que atributos como 'WiFi' ou 'Ambience' possam ser tratados separadamente e analisados de forma mais precisa.\n"
   ]
  },
  {
   "cell_type": "code",
   "execution_count": 14,
   "metadata": {},
   "outputs": [
    {
     "name": "stdout",
     "output_type": "stream",
     "text": [
      "              business_id                      name  \\\n",
      "0  Pns2l4eNsfO8kk83dixA6A  Abby Rappoport, LAC, CMQ   \n",
      "1  mpf3x-BjTdTEA3yCZrAYPw             The UPS Store   \n",
      "2  tUFrWirKiKi_TAnsVWINQQ                    Target   \n",
      "3  MTSW4McQd7CbVtyjqoe9mw        St Honore Pastries   \n",
      "4  mWMc6_wTdE0EUBKIGXDVfA  Perkiomen Valley Brewery   \n",
      "\n",
      "                           address           city state   latitude  \\\n",
      "0           1616 Chapala St, Ste 2  Santa Barbara    CA  34.426679   \n",
      "1  87 Grasso Plaza Shopping Center         Affton    MO  38.551126   \n",
      "2             5255 E Broadway Blvd         Tucson    AZ  32.223236   \n",
      "3                      935 Race St   Philadelphia    PA  39.955505   \n",
      "4                    101 Walnut St     Green Lane    PA  40.338183   \n",
      "\n",
      "    longitude  stars  review_count  \\\n",
      "0 -119.711197    5.0             7   \n",
      "1  -90.335695    3.0            15   \n",
      "2 -110.880452    3.5            22   \n",
      "3  -75.155564    4.0            80   \n",
      "4  -75.471659    4.5            13   \n",
      "\n",
      "                                          categories hours_Monday  \\\n",
      "0  Doctors, Traditional Chinese Medicine, Naturop...         None   \n",
      "1  Shipping Centers, Local Services, Notaries, Ma...      0:0-0:0   \n",
      "2  Department Stores, Shopping, Fashion, Home & G...     8:0-22:0   \n",
      "3  Restaurants, Food, Bubble Tea, Coffee & Tea, B...     7:0-20:0   \n",
      "4                          Brewpubs, Breweries, Food         None   \n",
      "\n",
      "  hours_Tuesday hours_Wednesday hours_Thursday hours_Friday hours_Saturday  \\\n",
      "0          None            None           None         None           None   \n",
      "1     8:0-18:30       8:0-18:30      8:0-18:30    8:0-18:30       8:0-14:0   \n",
      "2      8:0-22:0        8:0-22:0       8:0-22:0     8:0-23:0       8:0-23:0   \n",
      "3      7:0-20:0        7:0-20:0       7:0-20:0     7:0-21:0       7:0-21:0   \n",
      "4          None       14:0-22:0      16:0-22:0    12:0-22:0      12:0-22:0   \n",
      "\n",
      "  hours_Sunday AcceptsInsurance AgesAllowed  Alcohol Ambience  BYOB  \\\n",
      "0         None             None        None     None     None  None   \n",
      "1         None             None        None     None     None  None   \n",
      "2     8:0-22:0             None        None     None     None  None   \n",
      "3     7:0-21:0             None        None  u'none'     None  None   \n",
      "4    12:0-18:0             None        None     None     None  None   \n",
      "\n",
      "  BYOBCorkage BestNights BikeParking BusinessAcceptsBitcoin  \\\n",
      "0        None       None        None                   None   \n",
      "1        None       None        None                   None   \n",
      "2        None       None        True                   None   \n",
      "3        None       None        True                   None   \n",
      "4        None       None        True                   None   \n",
      "\n",
      "  BusinessAcceptsCreditCards  \\\n",
      "0                       None   \n",
      "1                       True   \n",
      "2                       True   \n",
      "3                      False   \n",
      "4                       True   \n",
      "\n",
      "                                     BusinessParking ByAppointmentOnly Caters  \\\n",
      "0                                               None              True   None   \n",
      "1                                               None              None   None   \n",
      "2  {'garage': False, 'street': False, 'validated'...             False  False   \n",
      "3  {'garage': False, 'street': True, 'validated':...             False   True   \n",
      "4  {'garage': None, 'street': None, 'validated': ...              None  False   \n",
      "\n",
      "  CoatCheck Corkage DietaryRestrictions DogsAllowed DriveThru GoodForDancing  \\\n",
      "0      None    None                None        None      None           None   \n",
      "1      None    None                None        None      None           None   \n",
      "2     False    None                None       False      None           None   \n",
      "3      None    None                None        None      None           None   \n",
      "4      None    None                None        None      None           None   \n",
      "\n",
      "  GoodForKids GoodForMeal HairSpecializesIn HappyHour  HasTV Music NoiseLevel  \\\n",
      "0        None        None              None      None   None  None       None   \n",
      "1        None        None              None      None   None  None       None   \n",
      "2        None        None              None     False  False  None       None   \n",
      "3        None        None              None      None   None  None       None   \n",
      "4        True        None              None      None   None  None       None   \n",
      "\n",
      "  Open24Hours OutdoorSeating RestaurantsAttire RestaurantsCounterService  \\\n",
      "0        None           None              None                      None   \n",
      "1        None           None              None                      None   \n",
      "2        None          False              None                      None   \n",
      "3        None          False              None                      None   \n",
      "4        None           None              None                      None   \n",
      "\n",
      "  RestaurantsDelivery RestaurantsGoodForGroups RestaurantsPriceRange2  \\\n",
      "0                None                     None                   None   \n",
      "1                None                     None                   None   \n",
      "2               False                     None                      2   \n",
      "3               False                     None                      1   \n",
      "4                None                     None                   None   \n",
      "\n",
      "  RestaurantsReservations RestaurantsTableService RestaurantsTakeOut Smoking  \\\n",
      "0                    None                    None               None    None   \n",
      "1                    None                    None               None    None   \n",
      "2                   False                    None              False    None   \n",
      "3                    None                    None               True    None   \n",
      "4                    None                    None               True    None   \n",
      "\n",
      "  WheelchairAccessible     WiFi  \n",
      "0                 None     None  \n",
      "1                 None     None  \n",
      "2                 True    u'no'  \n",
      "3                 None  u'free'  \n",
      "4                 True     None  \n"
     ]
    }
   ],
   "source": [
    "# Extrair os atributos em colunas separadas\n",
    "def extract_attributes(attributes):\n",
    "    if pd.isnull(attributes):\n",
    "        return pd.Series()\n",
    "    else:\n",
    "        return pd.Series(attributes)\n",
    "\n",
    "df_attributes = df_negocios['attributes'].apply(extract_attributes)\n",
    "df_negocios = pd.concat([df_negocios, df_attributes], axis=1)\n",
    "df_negocios.drop('attributes', axis=1, inplace=True)\n",
    "\n",
    "pd.set_option('display.max_columns', None)\n",
    "print(df_negocios.head())"
   ]
  },
  {
   "cell_type": "code",
   "execution_count": 15,
   "metadata": {},
   "outputs": [
    {
     "name": "stdout",
     "output_type": "stream",
     "text": [
      "ByAppointmentOnly              42339\n",
      "BusinessAcceptsCreditCards    119765\n",
      "BikeParking                    72638\n",
      "RestaurantsPriceRange2         85314\n",
      "RestaurantsTakeOut             59856\n",
      "RestaurantsDelivery            56281\n",
      "WiFi                           56914\n",
      "WheelchairAccessible           28953\n",
      "HappyHour                      15171\n",
      "RestaurantsReservations        45247\n",
      "DogsAllowed                    18284\n",
      "Alcohol                        43189\n",
      "GoodForKids                    53375\n",
      "Ambience                       44279\n",
      "RestaurantsTableService        19982\n",
      "RestaurantsGoodForGroups       44170\n",
      "DriveThru                       7760\n",
      "NoiseLevel                     37993\n",
      "GoodForMeal                    29087\n",
      "Smoking                         4567\n",
      "Music                           7521\n",
      "GoodForDancing                  4628\n",
      "BestNights                      5694\n",
      "HairSpecializesIn               1065\n",
      "Open24Hours                       39\n",
      "RestaurantsCounterService         19\n",
      "AgesAllowed                      129\n",
      "DietaryRestrictions               31\n",
      "dtype: int64\n"
     ]
    }
   ],
   "source": [
    "columns_check = [\n",
    "    'ByAppointmentOnly', 'BusinessAcceptsCreditCards', 'BikeParking', \n",
    "    'RestaurantsPriceRange2', 'RestaurantsTakeOut', 'RestaurantsDelivery', \n",
    "    'WiFi', 'WheelchairAccessible', 'HappyHour', 'RestaurantsReservations', \n",
    "    'DogsAllowed', 'Alcohol', 'GoodForKids', 'Ambience', \n",
    "    'RestaurantsTableService', 'RestaurantsGoodForGroups', 'DriveThru', \n",
    "    'NoiseLevel', 'GoodForMeal', 'Smoking', 'Music', 'GoodForDancing', \n",
    "    'BestNights', 'HairSpecializesIn', 'Open24Hours', \n",
    "    'RestaurantsCounterService', 'AgesAllowed', 'DietaryRestrictions'\n",
    "]\n",
    "\n",
    "# Contar valores não nulos nas colunas especificadas\n",
    "non_null_counts = df_negocios[columns_check].count()\n",
    "\n",
    "print(non_null_counts)"
   ]
  },
  {
   "cell_type": "markdown",
   "metadata": {},
   "source": [
    "# Remoção de Colunas Desnecessárias\n",
    "Ao remover colunas desnecessárias, estamos focando em simplificar a análise e evitar sobrecarga de dados. Esse passo é crucial para aumentar a eficiência do processamento e garantir que apenas informações relevantes sejam consideradas nas etapas seguintes. Além disso, a remoção de colunas irrelevantes pode melhorar a performance de modelos preditivos e visualizações.\n"
   ]
  },
  {
   "cell_type": "code",
   "execution_count": 16,
   "metadata": {},
   "outputs": [
    {
     "name": "stdout",
     "output_type": "stream",
     "text": [
      "              business_id                      name  \\\n",
      "0  Pns2l4eNsfO8kk83dixA6A  Abby Rappoport, LAC, CMQ   \n",
      "1  mpf3x-BjTdTEA3yCZrAYPw             The UPS Store   \n",
      "2  tUFrWirKiKi_TAnsVWINQQ                    Target   \n",
      "3  MTSW4McQd7CbVtyjqoe9mw        St Honore Pastries   \n",
      "4  mWMc6_wTdE0EUBKIGXDVfA  Perkiomen Valley Brewery   \n",
      "\n",
      "                           address           city state   latitude  \\\n",
      "0           1616 Chapala St, Ste 2  Santa Barbara    CA  34.426679   \n",
      "1  87 Grasso Plaza Shopping Center         Affton    MO  38.551126   \n",
      "2             5255 E Broadway Blvd         Tucson    AZ  32.223236   \n",
      "3                      935 Race St   Philadelphia    PA  39.955505   \n",
      "4                    101 Walnut St     Green Lane    PA  40.338183   \n",
      "\n",
      "    longitude  stars  review_count  \\\n",
      "0 -119.711197    5.0             7   \n",
      "1  -90.335695    3.0            15   \n",
      "2 -110.880452    3.5            22   \n",
      "3  -75.155564    4.0            80   \n",
      "4  -75.471659    4.5            13   \n",
      "\n",
      "                                          categories hours_Monday  \\\n",
      "0  Doctors, Traditional Chinese Medicine, Naturop...         None   \n",
      "1  Shipping Centers, Local Services, Notaries, Ma...      0:0-0:0   \n",
      "2  Department Stores, Shopping, Fashion, Home & G...     8:0-22:0   \n",
      "3  Restaurants, Food, Bubble Tea, Coffee & Tea, B...     7:0-20:0   \n",
      "4                          Brewpubs, Breweries, Food         None   \n",
      "\n",
      "  hours_Tuesday hours_Wednesday hours_Thursday hours_Friday hours_Saturday  \\\n",
      "0          None            None           None         None           None   \n",
      "1     8:0-18:30       8:0-18:30      8:0-18:30    8:0-18:30       8:0-14:0   \n",
      "2      8:0-22:0        8:0-22:0       8:0-22:0     8:0-23:0       8:0-23:0   \n",
      "3      7:0-20:0        7:0-20:0       7:0-20:0     7:0-21:0       7:0-21:0   \n",
      "4          None       14:0-22:0      16:0-22:0    12:0-22:0      12:0-22:0   \n",
      "\n",
      "  hours_Sunday  Alcohol Ambience BikeParking BusinessAcceptsCreditCards  \\\n",
      "0         None     None     None        None                       None   \n",
      "1         None     None     None        None                       True   \n",
      "2     8:0-22:0     None     None        True                       True   \n",
      "3     7:0-21:0  u'none'     None        True                      False   \n",
      "4    12:0-18:0     None     None        True                       True   \n",
      "\n",
      "  ByAppointmentOnly DogsAllowed GoodForKids GoodForMeal HappyHour NoiseLevel  \\\n",
      "0              True        None        None        None      None       None   \n",
      "1              None        None        None        None      None       None   \n",
      "2             False       False        None        None     False       None   \n",
      "3             False        None        None        None      None       None   \n",
      "4              None        None        True        None      None       None   \n",
      "\n",
      "  RestaurantsDelivery RestaurantsGoodForGroups RestaurantsPriceRange2  \\\n",
      "0                None                     None                   None   \n",
      "1                None                     None                   None   \n",
      "2               False                     None                      2   \n",
      "3               False                     None                      1   \n",
      "4                None                     None                   None   \n",
      "\n",
      "  RestaurantsReservations RestaurantsTableService RestaurantsTakeOut  \\\n",
      "0                    None                    None               None   \n",
      "1                    None                    None               None   \n",
      "2                   False                    None              False   \n",
      "3                    None                    None               True   \n",
      "4                    None                    None               True   \n",
      "\n",
      "  WheelchairAccessible     WiFi  \n",
      "0                 None     None  \n",
      "1                 None     None  \n",
      "2                 True    u'no'  \n",
      "3                 None  u'free'  \n",
      "4                 True     None  \n"
     ]
    }
   ],
   "source": [
    "\n",
    "colunas_para_remover = [ 'BYOB', 'BYOBCorkage', 'Corkage', 'BusinessParking', 'BusinessAcceptsBitcoin', 'Caters', 'OutdoorSeating',\n",
    "                         'RestaurantsAttire', 'CoatCheck','AcceptsInsurance', 'HasTV','DriveThru','Smoking',\n",
    "                         'AgesAllowed','DietaryRestrictions','Music','GoodForDancing', 'BestNights','HairSpecializesIn',\n",
    "                         'Open24Hours','RestaurantsCounterService' ]\n",
    "\n",
    "df_negocios = df_negocios.drop(columns=colunas_para_remover)\n",
    "\n",
    "pd.set_option('display.max_columns', None)\n",
    "print(df_negocios.head())\n"
   ]
  },
  {
   "cell_type": "markdown",
   "metadata": {},
   "source": [
    "# Limpeza e Normalização de Texto\n",
    "A normalização das colunas categóricas, como `'WiFi'`, `'Alcohol'` e `'NoiseLevel'`, é um passo essencial para garantir consistência nos dados. Com isso, evitamos variações de formatação que poderiam levar a inconsistências nas análises. Isso é fundamental, especialmente quando se trabalha com dados textuais, pois melhora a qualidade dos dados ao permitir comparações mais precisas e consistentes.\n"
   ]
  },
  {
   "cell_type": "code",
   "execution_count": 17,
   "metadata": {},
   "outputs": [
    {
     "name": "stdout",
     "output_type": "stream",
     "text": [
      "   WiFi Alcohol NoiseLevel\n",
      "0  None    None       None\n",
      "1  None    None       None\n",
      "2    No    None       None\n",
      "3  Free    None       None\n",
      "4  None    None       None\n"
     ]
    }
   ],
   "source": [
    "\n",
    "df_negocios['WiFi'] = df_negocios['WiFi'].str.replace(\"u'\", \"\").str.replace(\"'\", \"\")\n",
    "df_negocios['Alcohol'] = df_negocios['Alcohol'].str.replace(\"u'\", \"\").str.replace(\"'\", \"\")\n",
    "df_negocios['NoiseLevel'] = df_negocios['NoiseLevel'].str.replace(\"u'\", \"\").str.replace(\"'\", \"\")\n",
    "\n",
    "df_negocios['WiFi'] = df_negocios['WiFi'].str.capitalize()\n",
    "df_negocios['Alcohol'] = df_negocios['Alcohol'].str.capitalize()\n",
    "df_negocios['NoiseLevel'] = df_negocios['NoiseLevel'].str.capitalize()\n",
    "\n",
    "print(df_negocios[['WiFi', 'Alcohol', 'NoiseLevel']].head())"
   ]
  },
  {
   "cell_type": "code",
   "execution_count": 18,
   "metadata": {},
   "outputs": [],
   "source": [
    "# normalizar textos\n",
    "df_negocios['categories'] = df_negocios['categories'].str.lower().str.strip()\n",
    "df_negocios['city'] = df_negocios['city'].str.lower().str.strip()"
   ]
  },
  {
   "cell_type": "markdown",
   "metadata": {},
   "source": [
    "# Preenchimento e Ajuste da Coluna 'RestaurantsPriceRange2'\n",
    "Nesta célula, estamos realizando o preenchimento de valores ausentes na coluna 'RestaurantsPriceRange2', que representa a faixa de preço dos restaurantes. A estratégia adotada consiste em primeiro usar a moda da faixa de preço para cada classe de estrelas ('stars'), garantindo que valores faltantes dentro de uma mesma categoria de avaliação sejam preenchidos com o valor mais comum dessa faixa de preço. Caso ainda existam valores nulos após esse preenchimento, utilizamos a mediana da coluna como uma segunda estratégia de imputação, o que ajuda a evitar distorções caso existam valores atípicos. Após o preenchimento, a coluna é convertida para valores numéricos e ajustada para garantir que os valores da faixa de preço estejam dentro do intervalo esperado de 1 a 4.\n"
   ]
  },
  {
   "cell_type": "code",
   "execution_count": 19,
   "metadata": {},
   "outputs": [
    {
     "ename": "TypeError",
     "evalue": "Cannot convert ['2' '2' '2' ... '1' '4' '1'] to numeric",
     "output_type": "error",
     "traceback": [
      "\u001b[1;31m---------------------------------------------------------------------------\u001b[0m",
      "\u001b[1;31mTypeError\u001b[0m                                 Traceback (most recent call last)",
      "Cell \u001b[1;32mIn[19], line 15\u001b[0m\n\u001b[0;32m     11\u001b[0m         \u001b[38;5;28;01mreturn\u001b[39;00m row[\u001b[38;5;124m'\u001b[39m\u001b[38;5;124mRestaurantsPriceRange2\u001b[39m\u001b[38;5;124m'\u001b[39m]\n\u001b[0;32m     13\u001b[0m df_negocios[\u001b[38;5;124m'\u001b[39m\u001b[38;5;124mRestaurantsPriceRange2\u001b[39m\u001b[38;5;124m'\u001b[39m] \u001b[38;5;241m=\u001b[39m df_negocios\u001b[38;5;241m.\u001b[39mapply(fill_price_range, axis\u001b[38;5;241m=\u001b[39m\u001b[38;5;241m1\u001b[39m, mode_price_range\u001b[38;5;241m=\u001b[39mmode_price_range)\n\u001b[1;32m---> 15\u001b[0m df_negocios[\u001b[38;5;124m'\u001b[39m\u001b[38;5;124mRestaurantsPriceRange2\u001b[39m\u001b[38;5;124m'\u001b[39m] \u001b[38;5;241m=\u001b[39m df_negocios[\u001b[38;5;124m'\u001b[39m\u001b[38;5;124mRestaurantsPriceRange2\u001b[39m\u001b[38;5;124m'\u001b[39m]\u001b[38;5;241m.\u001b[39mfillna(\u001b[43mdf_negocios\u001b[49m\u001b[43m[\u001b[49m\u001b[38;5;124;43m'\u001b[39;49m\u001b[38;5;124;43mRestaurantsPriceRange2\u001b[39;49m\u001b[38;5;124;43m'\u001b[39;49m\u001b[43m]\u001b[49m\u001b[38;5;241;43m.\u001b[39;49m\u001b[43mmedian\u001b[49m\u001b[43m(\u001b[49m\u001b[43m)\u001b[49m)\n\u001b[0;32m     17\u001b[0m df_negocios[\u001b[38;5;124m'\u001b[39m\u001b[38;5;124mRestaurantsPriceRange2\u001b[39m\u001b[38;5;124m'\u001b[39m] \u001b[38;5;241m=\u001b[39m pd\u001b[38;5;241m.\u001b[39mto_numeric(df_negocios[\u001b[38;5;124m'\u001b[39m\u001b[38;5;124mRestaurantsPriceRange2\u001b[39m\u001b[38;5;124m'\u001b[39m], errors\u001b[38;5;241m=\u001b[39m\u001b[38;5;124m'\u001b[39m\u001b[38;5;124mcoerce\u001b[39m\u001b[38;5;124m'\u001b[39m)\n\u001b[0;32m     18\u001b[0m df_negocios[\u001b[38;5;124m'\u001b[39m\u001b[38;5;124mRestaurantsPriceRange2\u001b[39m\u001b[38;5;124m'\u001b[39m] \u001b[38;5;241m=\u001b[39m df_negocios[\u001b[38;5;124m'\u001b[39m\u001b[38;5;124mRestaurantsPriceRange2\u001b[39m\u001b[38;5;124m'\u001b[39m]\u001b[38;5;241m.\u001b[39mclip(\u001b[38;5;241m1\u001b[39m, \u001b[38;5;241m4\u001b[39m)\u001b[38;5;241m.\u001b[39mastype(\u001b[38;5;124m'\u001b[39m\u001b[38;5;124mInt64\u001b[39m\u001b[38;5;124m'\u001b[39m)\n",
      "File \u001b[1;32mc:\\Users\\PEA\\AppData\\Local\\Programs\\Python\\Python311\\Lib\\site-packages\\pandas\\core\\series.py:6559\u001b[0m, in \u001b[0;36mSeries.median\u001b[1;34m(self, axis, skipna, numeric_only, **kwargs)\u001b[0m\n\u001b[0;32m   6551\u001b[0m \u001b[38;5;129m@doc\u001b[39m(make_doc(\u001b[38;5;124m\"\u001b[39m\u001b[38;5;124mmedian\u001b[39m\u001b[38;5;124m\"\u001b[39m, ndim\u001b[38;5;241m=\u001b[39m\u001b[38;5;241m1\u001b[39m))\n\u001b[0;32m   6552\u001b[0m \u001b[38;5;28;01mdef\u001b[39;00m \u001b[38;5;21mmedian\u001b[39m(\n\u001b[0;32m   6553\u001b[0m     \u001b[38;5;28mself\u001b[39m,\n\u001b[1;32m   (...)\u001b[0m\n\u001b[0;32m   6557\u001b[0m     \u001b[38;5;241m*\u001b[39m\u001b[38;5;241m*\u001b[39mkwargs,\n\u001b[0;32m   6558\u001b[0m ):\n\u001b[1;32m-> 6559\u001b[0m     \u001b[38;5;28;01mreturn\u001b[39;00m \u001b[43mNDFrame\u001b[49m\u001b[38;5;241;43m.\u001b[39;49m\u001b[43mmedian\u001b[49m\u001b[43m(\u001b[49m\u001b[38;5;28;43mself\u001b[39;49m\u001b[43m,\u001b[49m\u001b[43m \u001b[49m\u001b[43maxis\u001b[49m\u001b[43m,\u001b[49m\u001b[43m \u001b[49m\u001b[43mskipna\u001b[49m\u001b[43m,\u001b[49m\u001b[43m \u001b[49m\u001b[43mnumeric_only\u001b[49m\u001b[43m,\u001b[49m\u001b[43m \u001b[49m\u001b[38;5;241;43m*\u001b[39;49m\u001b[38;5;241;43m*\u001b[39;49m\u001b[43mkwargs\u001b[49m\u001b[43m)\u001b[49m\n",
      "File \u001b[1;32mc:\\Users\\PEA\\AppData\\Local\\Programs\\Python\\Python311\\Lib\\site-packages\\pandas\\core\\generic.py:12431\u001b[0m, in \u001b[0;36mNDFrame.median\u001b[1;34m(self, axis, skipna, numeric_only, **kwargs)\u001b[0m\n\u001b[0;32m  12424\u001b[0m \u001b[38;5;28;01mdef\u001b[39;00m \u001b[38;5;21mmedian\u001b[39m(\n\u001b[0;32m  12425\u001b[0m     \u001b[38;5;28mself\u001b[39m,\n\u001b[0;32m  12426\u001b[0m     axis: Axis \u001b[38;5;241m|\u001b[39m \u001b[38;5;28;01mNone\u001b[39;00m \u001b[38;5;241m=\u001b[39m \u001b[38;5;241m0\u001b[39m,\n\u001b[1;32m   (...)\u001b[0m\n\u001b[0;32m  12429\u001b[0m     \u001b[38;5;241m*\u001b[39m\u001b[38;5;241m*\u001b[39mkwargs,\n\u001b[0;32m  12430\u001b[0m ) \u001b[38;5;241m-\u001b[39m\u001b[38;5;241m>\u001b[39m Series \u001b[38;5;241m|\u001b[39m \u001b[38;5;28mfloat\u001b[39m:\n\u001b[1;32m> 12431\u001b[0m     \u001b[38;5;28;01mreturn\u001b[39;00m \u001b[38;5;28;43mself\u001b[39;49m\u001b[38;5;241;43m.\u001b[39;49m\u001b[43m_stat_function\u001b[49m\u001b[43m(\u001b[49m\n\u001b[0;32m  12432\u001b[0m \u001b[43m        \u001b[49m\u001b[38;5;124;43m\"\u001b[39;49m\u001b[38;5;124;43mmedian\u001b[39;49m\u001b[38;5;124;43m\"\u001b[39;49m\u001b[43m,\u001b[49m\u001b[43m \u001b[49m\u001b[43mnanops\u001b[49m\u001b[38;5;241;43m.\u001b[39;49m\u001b[43mnanmedian\u001b[49m\u001b[43m,\u001b[49m\u001b[43m \u001b[49m\u001b[43maxis\u001b[49m\u001b[43m,\u001b[49m\u001b[43m \u001b[49m\u001b[43mskipna\u001b[49m\u001b[43m,\u001b[49m\u001b[43m \u001b[49m\u001b[43mnumeric_only\u001b[49m\u001b[43m,\u001b[49m\u001b[43m \u001b[49m\u001b[38;5;241;43m*\u001b[39;49m\u001b[38;5;241;43m*\u001b[39;49m\u001b[43mkwargs\u001b[49m\n\u001b[0;32m  12433\u001b[0m \u001b[43m    \u001b[49m\u001b[43m)\u001b[49m\n",
      "File \u001b[1;32mc:\\Users\\PEA\\AppData\\Local\\Programs\\Python\\Python311\\Lib\\site-packages\\pandas\\core\\generic.py:12377\u001b[0m, in \u001b[0;36mNDFrame._stat_function\u001b[1;34m(self, name, func, axis, skipna, numeric_only, **kwargs)\u001b[0m\n\u001b[0;32m  12373\u001b[0m nv\u001b[38;5;241m.\u001b[39mvalidate_func(name, (), kwargs)\n\u001b[0;32m  12375\u001b[0m validate_bool_kwarg(skipna, \u001b[38;5;124m\"\u001b[39m\u001b[38;5;124mskipna\u001b[39m\u001b[38;5;124m\"\u001b[39m, none_allowed\u001b[38;5;241m=\u001b[39m\u001b[38;5;28;01mFalse\u001b[39;00m)\n\u001b[1;32m> 12377\u001b[0m \u001b[38;5;28;01mreturn\u001b[39;00m \u001b[38;5;28;43mself\u001b[39;49m\u001b[38;5;241;43m.\u001b[39;49m\u001b[43m_reduce\u001b[49m\u001b[43m(\u001b[49m\n\u001b[0;32m  12378\u001b[0m \u001b[43m    \u001b[49m\u001b[43mfunc\u001b[49m\u001b[43m,\u001b[49m\u001b[43m \u001b[49m\u001b[43mname\u001b[49m\u001b[38;5;241;43m=\u001b[39;49m\u001b[43mname\u001b[49m\u001b[43m,\u001b[49m\u001b[43m \u001b[49m\u001b[43maxis\u001b[49m\u001b[38;5;241;43m=\u001b[39;49m\u001b[43maxis\u001b[49m\u001b[43m,\u001b[49m\u001b[43m \u001b[49m\u001b[43mskipna\u001b[49m\u001b[38;5;241;43m=\u001b[39;49m\u001b[43mskipna\u001b[49m\u001b[43m,\u001b[49m\u001b[43m \u001b[49m\u001b[43mnumeric_only\u001b[49m\u001b[38;5;241;43m=\u001b[39;49m\u001b[43mnumeric_only\u001b[49m\n\u001b[0;32m  12379\u001b[0m \u001b[43m\u001b[49m\u001b[43m)\u001b[49m\n",
      "File \u001b[1;32mc:\\Users\\PEA\\AppData\\Local\\Programs\\Python\\Python311\\Lib\\site-packages\\pandas\\core\\series.py:6457\u001b[0m, in \u001b[0;36mSeries._reduce\u001b[1;34m(self, op, name, axis, skipna, numeric_only, filter_type, **kwds)\u001b[0m\n\u001b[0;32m   6452\u001b[0m     \u001b[38;5;66;03m# GH#47500 - change to TypeError to match other methods\u001b[39;00m\n\u001b[0;32m   6453\u001b[0m     \u001b[38;5;28;01mraise\u001b[39;00m \u001b[38;5;167;01mTypeError\u001b[39;00m(\n\u001b[0;32m   6454\u001b[0m         \u001b[38;5;124mf\u001b[39m\u001b[38;5;124m\"\u001b[39m\u001b[38;5;124mSeries.\u001b[39m\u001b[38;5;132;01m{\u001b[39;00mname\u001b[38;5;132;01m}\u001b[39;00m\u001b[38;5;124m does not allow \u001b[39m\u001b[38;5;132;01m{\u001b[39;00mkwd_name\u001b[38;5;132;01m}\u001b[39;00m\u001b[38;5;124m=\u001b[39m\u001b[38;5;132;01m{\u001b[39;00mnumeric_only\u001b[38;5;132;01m}\u001b[39;00m\u001b[38;5;124m \u001b[39m\u001b[38;5;124m\"\u001b[39m\n\u001b[0;32m   6455\u001b[0m         \u001b[38;5;124m\"\u001b[39m\u001b[38;5;124mwith non-numeric dtypes.\u001b[39m\u001b[38;5;124m\"\u001b[39m\n\u001b[0;32m   6456\u001b[0m     )\n\u001b[1;32m-> 6457\u001b[0m \u001b[38;5;28;01mreturn\u001b[39;00m \u001b[43mop\u001b[49m\u001b[43m(\u001b[49m\u001b[43mdelegate\u001b[49m\u001b[43m,\u001b[49m\u001b[43m \u001b[49m\u001b[43mskipna\u001b[49m\u001b[38;5;241;43m=\u001b[39;49m\u001b[43mskipna\u001b[49m\u001b[43m,\u001b[49m\u001b[43m \u001b[49m\u001b[38;5;241;43m*\u001b[39;49m\u001b[38;5;241;43m*\u001b[39;49m\u001b[43mkwds\u001b[49m\u001b[43m)\u001b[49m\n",
      "File \u001b[1;32mc:\\Users\\PEA\\AppData\\Local\\Programs\\Python\\Python311\\Lib\\site-packages\\pandas\\core\\nanops.py:147\u001b[0m, in \u001b[0;36mbottleneck_switch.__call__.<locals>.f\u001b[1;34m(values, axis, skipna, **kwds)\u001b[0m\n\u001b[0;32m    145\u001b[0m         result \u001b[38;5;241m=\u001b[39m alt(values, axis\u001b[38;5;241m=\u001b[39maxis, skipna\u001b[38;5;241m=\u001b[39mskipna, \u001b[38;5;241m*\u001b[39m\u001b[38;5;241m*\u001b[39mkwds)\n\u001b[0;32m    146\u001b[0m \u001b[38;5;28;01melse\u001b[39;00m:\n\u001b[1;32m--> 147\u001b[0m     result \u001b[38;5;241m=\u001b[39m \u001b[43malt\u001b[49m\u001b[43m(\u001b[49m\u001b[43mvalues\u001b[49m\u001b[43m,\u001b[49m\u001b[43m \u001b[49m\u001b[43maxis\u001b[49m\u001b[38;5;241;43m=\u001b[39;49m\u001b[43maxis\u001b[49m\u001b[43m,\u001b[49m\u001b[43m \u001b[49m\u001b[43mskipna\u001b[49m\u001b[38;5;241;43m=\u001b[39;49m\u001b[43mskipna\u001b[49m\u001b[43m,\u001b[49m\u001b[43m \u001b[49m\u001b[38;5;241;43m*\u001b[39;49m\u001b[38;5;241;43m*\u001b[39;49m\u001b[43mkwds\u001b[49m\u001b[43m)\u001b[49m\n\u001b[0;32m    149\u001b[0m \u001b[38;5;28;01mreturn\u001b[39;00m result\n",
      "File \u001b[1;32mc:\\Users\\PEA\\AppData\\Local\\Programs\\Python\\Python311\\Lib\\site-packages\\pandas\\core\\nanops.py:787\u001b[0m, in \u001b[0;36mnanmedian\u001b[1;34m(values, axis, skipna, mask)\u001b[0m\n\u001b[0;32m    785\u001b[0m     inferred \u001b[38;5;241m=\u001b[39m lib\u001b[38;5;241m.\u001b[39minfer_dtype(values)\n\u001b[0;32m    786\u001b[0m     \u001b[38;5;28;01mif\u001b[39;00m inferred \u001b[38;5;129;01min\u001b[39;00m [\u001b[38;5;124m\"\u001b[39m\u001b[38;5;124mstring\u001b[39m\u001b[38;5;124m\"\u001b[39m, \u001b[38;5;124m\"\u001b[39m\u001b[38;5;124mmixed\u001b[39m\u001b[38;5;124m\"\u001b[39m]:\n\u001b[1;32m--> 787\u001b[0m         \u001b[38;5;28;01mraise\u001b[39;00m \u001b[38;5;167;01mTypeError\u001b[39;00m(\u001b[38;5;124mf\u001b[39m\u001b[38;5;124m\"\u001b[39m\u001b[38;5;124mCannot convert \u001b[39m\u001b[38;5;132;01m{\u001b[39;00mvalues\u001b[38;5;132;01m}\u001b[39;00m\u001b[38;5;124m to numeric\u001b[39m\u001b[38;5;124m\"\u001b[39m)\n\u001b[0;32m    788\u001b[0m \u001b[38;5;28;01mtry\u001b[39;00m:\n\u001b[0;32m    789\u001b[0m     values \u001b[38;5;241m=\u001b[39m values\u001b[38;5;241m.\u001b[39mastype(\u001b[38;5;124m\"\u001b[39m\u001b[38;5;124mf8\u001b[39m\u001b[38;5;124m\"\u001b[39m)\n",
      "\u001b[1;31mTypeError\u001b[0m: Cannot convert ['2' '2' '2' ... '1' '4' '1'] to numeric"
     ]
    }
   ],
   "source": [
    "def calculate_mode(series):\n",
    "    mode = series.mode()\n",
    "    return mode.iloc[0] if not mode.empty else None\n",
    "\n",
    "mode_price_range = df_negocios.groupby('stars')['RestaurantsPriceRange2'].agg(calculate_mode)\n",
    "\n",
    "def fill_price_range(row, mode_price_range):\n",
    "    if pd.isnull(row['RestaurantsPriceRange2']):\n",
    "        return mode_price_range[row['stars']]\n",
    "    else:\n",
    "        return row['RestaurantsPriceRange2']\n",
    "\n",
    "df_negocios['RestaurantsPriceRange2'] = df_negocios.apply(fill_price_range, axis=1, mode_price_range=mode_price_range)\n",
    "\n",
    "df_negocios['RestaurantsPriceRange2'] = df_negocios['RestaurantsPriceRange2'].fillna(df_negocios['RestaurantsPriceRange2'].median())\n",
    "\n",
    "df_negocios['RestaurantsPriceRange2'] = pd.to_numeric(df_negocios['RestaurantsPriceRange2'], errors='coerce')\n",
    "df_negocios['RestaurantsPriceRange2'] = df_negocios['RestaurantsPriceRange2'].clip(1, 4).astype('Int64')"
   ]
  },
  {
   "cell_type": "code",
   "execution_count": 32,
   "metadata": {},
   "outputs": [],
   "source": [
    "hours_columns = ['hours_Monday', 'hours_Tuesday', 'hours_Wednesday', 'hours_Thursday', 'hours_Friday', 'hours_Saturday', 'hours_Sunday']\n",
    "\n",
    "df_negocios[hours_columns] = df_negocios[hours_columns].fillna(\"Closed\")"
   ]
  },
  {
   "cell_type": "markdown",
   "metadata": {},
   "source": [
    "# Preenchimento de Valores Nulos nas Colunas Categóricas e Booleanas\n",
    " Nesta célula, estamos tratando os valores nulos nas colunas do DataFrame df_negocios de forma estratégica, com base no tipo de dado de cada coluna. Para as colunas categóricas (como 'categories', 'Alcohol', 'Ambience', 'NoiseLevel', e 'WiFi'), estamos substituindo os valores ausentes por uma categoria padrão: 'Other' ou 'Unknown'. Isso evita que dados faltantes prejudiquem análises posteriores e assegura que todas as categorias estejam completas. Para as colunas booleanas (como 'BikeParking', 'ByAppointmentOnly', 'DogsAllowed', entre outras), os valores nulos são preenchidos com False, assumindo que, na ausência de informação, a resposta mais comum seria que a funcionalidade ou característica não está disponível. Esse preenchimento é essencial para garantir que o modelo de dados esteja completo e consistente para análises subsequentes."
   ]
  },
  {
   "cell_type": "code",
   "execution_count": 20,
   "metadata": {},
   "outputs": [],
   "source": [
    "df_negocios['categories'] = df_negocios['categories'].fillna('Other') \n",
    "\n",
    "def fill_na_with_default(df, columns, default_value):\n",
    "    for column in columns:\n",
    "        df[column] = df[column].fillna(default_value)\n",
    "    return df\n",
    "\n",
    "categorical_columns = [\n",
    "    'Alcohol', 'Ambience', 'NoiseLevel', 'WiFi'\n",
    "]\n",
    "df_negocios = fill_na_with_default(df_negocios, categorical_columns, \"Unknown\")\n",
    "\n",
    "boolean_columns = [\n",
    "    'BikeParking', 'BusinessAcceptsCreditCards', 'ByAppointmentOnly', \n",
    "    'DogsAllowed', 'GoodForKids', 'GoodForMeal', 'HappyHour', \n",
    "    'RestaurantsDelivery', 'RestaurantsGoodForGroups', 'RestaurantsReservations', \n",
    "    'RestaurantsTableService', 'RestaurantsTakeOut', 'WheelchairAccessible'\n",
    "]\n",
    "df_negocios = fill_na_with_default(df_negocios, boolean_columns, False)\n"
   ]
  },
  {
   "cell_type": "code",
   "execution_count": 21,
   "metadata": {},
   "outputs": [
    {
     "name": "stdout",
     "output_type": "stream",
     "text": [
      "business_id                       0\n",
      "name                              0\n",
      "address                           0\n",
      "city                              0\n",
      "state                             0\n",
      "latitude                          0\n",
      "longitude                         0\n",
      "stars                             0\n",
      "review_count                      0\n",
      "categories                        0\n",
      "hours_Monday                  35769\n",
      "hours_Tuesday                 29612\n",
      "hours_Wednesday               26472\n",
      "hours_Thursday                25045\n",
      "hours_Friday                  25244\n",
      "hours_Saturday                39473\n",
      "hours_Sunday                  69071\n",
      "Alcohol                           0\n",
      "Ambience                          0\n",
      "BikeParking                       0\n",
      "BusinessAcceptsCreditCards        0\n",
      "ByAppointmentOnly                 0\n",
      "DogsAllowed                       0\n",
      "GoodForKids                       0\n",
      "GoodForMeal                       0\n",
      "HappyHour                         0\n",
      "NoiseLevel                        0\n",
      "RestaurantsDelivery               0\n",
      "RestaurantsGoodForGroups          0\n",
      "RestaurantsPriceRange2            0\n",
      "RestaurantsReservations           0\n",
      "RestaurantsTableService           0\n",
      "RestaurantsTakeOut                0\n",
      "WheelchairAccessible              0\n",
      "WiFi                              0\n",
      "dtype: int64\n"
     ]
    },
    {
     "data": {
      "text/html": [
       "<div>\n",
       "<style scoped>\n",
       "    .dataframe tbody tr th:only-of-type {\n",
       "        vertical-align: middle;\n",
       "    }\n",
       "\n",
       "    .dataframe tbody tr th {\n",
       "        vertical-align: top;\n",
       "    }\n",
       "\n",
       "    .dataframe thead th {\n",
       "        text-align: right;\n",
       "    }\n",
       "</style>\n",
       "<table border=\"1\" class=\"dataframe\">\n",
       "  <thead>\n",
       "    <tr style=\"text-align: right;\">\n",
       "      <th></th>\n",
       "      <th>business_id</th>\n",
       "      <th>name</th>\n",
       "      <th>address</th>\n",
       "      <th>city</th>\n",
       "      <th>state</th>\n",
       "      <th>latitude</th>\n",
       "      <th>longitude</th>\n",
       "      <th>stars</th>\n",
       "      <th>review_count</th>\n",
       "      <th>categories</th>\n",
       "      <th>hours_Monday</th>\n",
       "      <th>hours_Tuesday</th>\n",
       "      <th>hours_Wednesday</th>\n",
       "      <th>hours_Thursday</th>\n",
       "      <th>hours_Friday</th>\n",
       "      <th>hours_Saturday</th>\n",
       "      <th>hours_Sunday</th>\n",
       "      <th>Alcohol</th>\n",
       "      <th>Ambience</th>\n",
       "      <th>BikeParking</th>\n",
       "      <th>BusinessAcceptsCreditCards</th>\n",
       "      <th>ByAppointmentOnly</th>\n",
       "      <th>DogsAllowed</th>\n",
       "      <th>GoodForKids</th>\n",
       "      <th>GoodForMeal</th>\n",
       "      <th>HappyHour</th>\n",
       "      <th>NoiseLevel</th>\n",
       "      <th>RestaurantsDelivery</th>\n",
       "      <th>RestaurantsGoodForGroups</th>\n",
       "      <th>RestaurantsPriceRange2</th>\n",
       "      <th>RestaurantsReservations</th>\n",
       "      <th>RestaurantsTableService</th>\n",
       "      <th>RestaurantsTakeOut</th>\n",
       "      <th>WheelchairAccessible</th>\n",
       "      <th>WiFi</th>\n",
       "    </tr>\n",
       "  </thead>\n",
       "  <tbody>\n",
       "    <tr>\n",
       "      <th>0</th>\n",
       "      <td>Pns2l4eNsfO8kk83dixA6A</td>\n",
       "      <td>Abby Rappoport, LAC, CMQ</td>\n",
       "      <td>1616 Chapala St, Ste 2</td>\n",
       "      <td>santa barbara</td>\n",
       "      <td>CA</td>\n",
       "      <td>34.426679</td>\n",
       "      <td>-119.711197</td>\n",
       "      <td>5.0</td>\n",
       "      <td>7</td>\n",
       "      <td>doctors, traditional chinese medicine, naturop...</td>\n",
       "      <td>None</td>\n",
       "      <td>None</td>\n",
       "      <td>None</td>\n",
       "      <td>None</td>\n",
       "      <td>None</td>\n",
       "      <td>None</td>\n",
       "      <td>None</td>\n",
       "      <td>Unknown</td>\n",
       "      <td>Unknown</td>\n",
       "      <td>False</td>\n",
       "      <td>False</td>\n",
       "      <td>True</td>\n",
       "      <td>False</td>\n",
       "      <td>False</td>\n",
       "      <td>False</td>\n",
       "      <td>False</td>\n",
       "      <td>Unknown</td>\n",
       "      <td>False</td>\n",
       "      <td>False</td>\n",
       "      <td>2</td>\n",
       "      <td>False</td>\n",
       "      <td>False</td>\n",
       "      <td>False</td>\n",
       "      <td>False</td>\n",
       "      <td>Unknown</td>\n",
       "    </tr>\n",
       "    <tr>\n",
       "      <th>1</th>\n",
       "      <td>mpf3x-BjTdTEA3yCZrAYPw</td>\n",
       "      <td>The UPS Store</td>\n",
       "      <td>87 Grasso Plaza Shopping Center</td>\n",
       "      <td>affton</td>\n",
       "      <td>MO</td>\n",
       "      <td>38.551126</td>\n",
       "      <td>-90.335695</td>\n",
       "      <td>3.0</td>\n",
       "      <td>15</td>\n",
       "      <td>shipping centers, local services, notaries, ma...</td>\n",
       "      <td>0:0-0:0</td>\n",
       "      <td>8:0-18:30</td>\n",
       "      <td>8:0-18:30</td>\n",
       "      <td>8:0-18:30</td>\n",
       "      <td>8:0-18:30</td>\n",
       "      <td>8:0-14:0</td>\n",
       "      <td>None</td>\n",
       "      <td>Unknown</td>\n",
       "      <td>Unknown</td>\n",
       "      <td>False</td>\n",
       "      <td>True</td>\n",
       "      <td>False</td>\n",
       "      <td>False</td>\n",
       "      <td>False</td>\n",
       "      <td>False</td>\n",
       "      <td>False</td>\n",
       "      <td>Unknown</td>\n",
       "      <td>False</td>\n",
       "      <td>False</td>\n",
       "      <td>2</td>\n",
       "      <td>False</td>\n",
       "      <td>False</td>\n",
       "      <td>False</td>\n",
       "      <td>False</td>\n",
       "      <td>Unknown</td>\n",
       "    </tr>\n",
       "    <tr>\n",
       "      <th>2</th>\n",
       "      <td>tUFrWirKiKi_TAnsVWINQQ</td>\n",
       "      <td>Target</td>\n",
       "      <td>5255 E Broadway Blvd</td>\n",
       "      <td>tucson</td>\n",
       "      <td>AZ</td>\n",
       "      <td>32.223236</td>\n",
       "      <td>-110.880452</td>\n",
       "      <td>3.5</td>\n",
       "      <td>22</td>\n",
       "      <td>department stores, shopping, fashion, home &amp; g...</td>\n",
       "      <td>8:0-22:0</td>\n",
       "      <td>8:0-22:0</td>\n",
       "      <td>8:0-22:0</td>\n",
       "      <td>8:0-22:0</td>\n",
       "      <td>8:0-23:0</td>\n",
       "      <td>8:0-23:0</td>\n",
       "      <td>8:0-22:0</td>\n",
       "      <td>Unknown</td>\n",
       "      <td>Unknown</td>\n",
       "      <td>True</td>\n",
       "      <td>True</td>\n",
       "      <td>False</td>\n",
       "      <td>False</td>\n",
       "      <td>False</td>\n",
       "      <td>False</td>\n",
       "      <td>False</td>\n",
       "      <td>Unknown</td>\n",
       "      <td>False</td>\n",
       "      <td>False</td>\n",
       "      <td>2</td>\n",
       "      <td>False</td>\n",
       "      <td>False</td>\n",
       "      <td>False</td>\n",
       "      <td>True</td>\n",
       "      <td>No</td>\n",
       "    </tr>\n",
       "    <tr>\n",
       "      <th>3</th>\n",
       "      <td>MTSW4McQd7CbVtyjqoe9mw</td>\n",
       "      <td>St Honore Pastries</td>\n",
       "      <td>935 Race St</td>\n",
       "      <td>philadelphia</td>\n",
       "      <td>PA</td>\n",
       "      <td>39.955505</td>\n",
       "      <td>-75.155564</td>\n",
       "      <td>4.0</td>\n",
       "      <td>80</td>\n",
       "      <td>restaurants, food, bubble tea, coffee &amp; tea, b...</td>\n",
       "      <td>7:0-20:0</td>\n",
       "      <td>7:0-20:0</td>\n",
       "      <td>7:0-20:0</td>\n",
       "      <td>7:0-20:0</td>\n",
       "      <td>7:0-21:0</td>\n",
       "      <td>7:0-21:0</td>\n",
       "      <td>7:0-21:0</td>\n",
       "      <td>None</td>\n",
       "      <td>Unknown</td>\n",
       "      <td>True</td>\n",
       "      <td>False</td>\n",
       "      <td>False</td>\n",
       "      <td>False</td>\n",
       "      <td>False</td>\n",
       "      <td>False</td>\n",
       "      <td>False</td>\n",
       "      <td>Unknown</td>\n",
       "      <td>False</td>\n",
       "      <td>False</td>\n",
       "      <td>1</td>\n",
       "      <td>False</td>\n",
       "      <td>False</td>\n",
       "      <td>True</td>\n",
       "      <td>False</td>\n",
       "      <td>Free</td>\n",
       "    </tr>\n",
       "    <tr>\n",
       "      <th>4</th>\n",
       "      <td>mWMc6_wTdE0EUBKIGXDVfA</td>\n",
       "      <td>Perkiomen Valley Brewery</td>\n",
       "      <td>101 Walnut St</td>\n",
       "      <td>green lane</td>\n",
       "      <td>PA</td>\n",
       "      <td>40.338183</td>\n",
       "      <td>-75.471659</td>\n",
       "      <td>4.5</td>\n",
       "      <td>13</td>\n",
       "      <td>brewpubs, breweries, food</td>\n",
       "      <td>None</td>\n",
       "      <td>None</td>\n",
       "      <td>14:0-22:0</td>\n",
       "      <td>16:0-22:0</td>\n",
       "      <td>12:0-22:0</td>\n",
       "      <td>12:0-22:0</td>\n",
       "      <td>12:0-18:0</td>\n",
       "      <td>Unknown</td>\n",
       "      <td>Unknown</td>\n",
       "      <td>True</td>\n",
       "      <td>True</td>\n",
       "      <td>False</td>\n",
       "      <td>False</td>\n",
       "      <td>True</td>\n",
       "      <td>False</td>\n",
       "      <td>False</td>\n",
       "      <td>Unknown</td>\n",
       "      <td>False</td>\n",
       "      <td>False</td>\n",
       "      <td>2</td>\n",
       "      <td>False</td>\n",
       "      <td>False</td>\n",
       "      <td>True</td>\n",
       "      <td>True</td>\n",
       "      <td>Unknown</td>\n",
       "    </tr>\n",
       "  </tbody>\n",
       "</table>\n",
       "</div>"
      ],
      "text/plain": [
       "              business_id                      name  \\\n",
       "0  Pns2l4eNsfO8kk83dixA6A  Abby Rappoport, LAC, CMQ   \n",
       "1  mpf3x-BjTdTEA3yCZrAYPw             The UPS Store   \n",
       "2  tUFrWirKiKi_TAnsVWINQQ                    Target   \n",
       "3  MTSW4McQd7CbVtyjqoe9mw        St Honore Pastries   \n",
       "4  mWMc6_wTdE0EUBKIGXDVfA  Perkiomen Valley Brewery   \n",
       "\n",
       "                           address           city state   latitude  \\\n",
       "0           1616 Chapala St, Ste 2  santa barbara    CA  34.426679   \n",
       "1  87 Grasso Plaza Shopping Center         affton    MO  38.551126   \n",
       "2             5255 E Broadway Blvd         tucson    AZ  32.223236   \n",
       "3                      935 Race St   philadelphia    PA  39.955505   \n",
       "4                    101 Walnut St     green lane    PA  40.338183   \n",
       "\n",
       "    longitude  stars  review_count  \\\n",
       "0 -119.711197    5.0             7   \n",
       "1  -90.335695    3.0            15   \n",
       "2 -110.880452    3.5            22   \n",
       "3  -75.155564    4.0            80   \n",
       "4  -75.471659    4.5            13   \n",
       "\n",
       "                                          categories hours_Monday  \\\n",
       "0  doctors, traditional chinese medicine, naturop...         None   \n",
       "1  shipping centers, local services, notaries, ma...      0:0-0:0   \n",
       "2  department stores, shopping, fashion, home & g...     8:0-22:0   \n",
       "3  restaurants, food, bubble tea, coffee & tea, b...     7:0-20:0   \n",
       "4                          brewpubs, breweries, food         None   \n",
       "\n",
       "  hours_Tuesday hours_Wednesday hours_Thursday hours_Friday hours_Saturday  \\\n",
       "0          None            None           None         None           None   \n",
       "1     8:0-18:30       8:0-18:30      8:0-18:30    8:0-18:30       8:0-14:0   \n",
       "2      8:0-22:0        8:0-22:0       8:0-22:0     8:0-23:0       8:0-23:0   \n",
       "3      7:0-20:0        7:0-20:0       7:0-20:0     7:0-21:0       7:0-21:0   \n",
       "4          None       14:0-22:0      16:0-22:0    12:0-22:0      12:0-22:0   \n",
       "\n",
       "  hours_Sunday  Alcohol Ambience BikeParking BusinessAcceptsCreditCards  \\\n",
       "0         None  Unknown  Unknown       False                      False   \n",
       "1         None  Unknown  Unknown       False                       True   \n",
       "2     8:0-22:0  Unknown  Unknown        True                       True   \n",
       "3     7:0-21:0     None  Unknown        True                      False   \n",
       "4    12:0-18:0  Unknown  Unknown        True                       True   \n",
       "\n",
       "  ByAppointmentOnly DogsAllowed GoodForKids GoodForMeal HappyHour NoiseLevel  \\\n",
       "0              True       False       False       False     False    Unknown   \n",
       "1             False       False       False       False     False    Unknown   \n",
       "2             False       False       False       False     False    Unknown   \n",
       "3             False       False       False       False     False    Unknown   \n",
       "4             False       False        True       False     False    Unknown   \n",
       "\n",
       "  RestaurantsDelivery RestaurantsGoodForGroups RestaurantsPriceRange2  \\\n",
       "0               False                    False                      2   \n",
       "1               False                    False                      2   \n",
       "2               False                    False                      2   \n",
       "3               False                    False                      1   \n",
       "4               False                    False                      2   \n",
       "\n",
       "  RestaurantsReservations RestaurantsTableService RestaurantsTakeOut  \\\n",
       "0                   False                   False              False   \n",
       "1                   False                   False              False   \n",
       "2                   False                   False              False   \n",
       "3                   False                   False               True   \n",
       "4                   False                   False               True   \n",
       "\n",
       "  WheelchairAccessible     WiFi  \n",
       "0                False  Unknown  \n",
       "1                False  Unknown  \n",
       "2                 True       No  \n",
       "3                False     Free  \n",
       "4                 True  Unknown  "
      ]
     },
     "execution_count": 21,
     "metadata": {},
     "output_type": "execute_result"
    }
   ],
   "source": [
    "# Verifica se tem mais algum dado faltante\n",
    "null_counts = df_negocios.isnull().sum()\n",
    "print(null_counts)\n",
    "df_negocios.head()"
   ]
  },
  {
   "cell_type": "markdown",
   "metadata": {},
   "source": [
    "# Visualização Geográfica com Folium\n",
    " A criação de um mapa interativo com Folium permite analisar a distribuição geográfica dos negócios do Yelp, destacando áreas com maior concentração de estabelecimentos. O uso do MarkerCluster melhora a visualização ao agrupar pontos próximos, tornando a análise mais eficiente, especialmente em áreas densamente povoadas. Essa visualização pode revelar padrões espaciais interessantes, como clusters de negócios em regiões específicas, e é útil para identificar zonas de alta demanda ou oportunidades para expansão. O mapa gerado oferece uma ferramenta interativa para explorar as localizações de maneira dinâmica."
   ]
  },
  {
   "cell_type": "code",
   "execution_count": 22,
   "metadata": {},
   "outputs": [
    {
     "ename": "KeyboardInterrupt",
     "evalue": "",
     "output_type": "error",
     "traceback": [
      "\u001b[1;31m---------------------------------------------------------------------------\u001b[0m",
      "\u001b[1;31mKeyboardInterrupt\u001b[0m                         Traceback (most recent call last)",
      "Cell \u001b[1;32mIn[22], line 13\u001b[0m\n\u001b[0;32m     10\u001b[0m \u001b[38;5;28;01mfor\u001b[39;00m _, row \u001b[38;5;129;01min\u001b[39;00m df_negocios\u001b[38;5;241m.\u001b[39miterrows():\n\u001b[0;32m     11\u001b[0m     folium\u001b[38;5;241m.\u001b[39mMarker(location\u001b[38;5;241m=\u001b[39m[row[\u001b[38;5;124m'\u001b[39m\u001b[38;5;124mlatitude\u001b[39m\u001b[38;5;124m'\u001b[39m], row[\u001b[38;5;124m'\u001b[39m\u001b[38;5;124mlongitude\u001b[39m\u001b[38;5;124m'\u001b[39m]], popup\u001b[38;5;241m=\u001b[39mrow[\u001b[38;5;124m'\u001b[39m\u001b[38;5;124mname\u001b[39m\u001b[38;5;124m'\u001b[39m])\u001b[38;5;241m.\u001b[39madd_to(marker_cluster)\n\u001b[1;32m---> 13\u001b[0m \u001b[43mmapa\u001b[49m\u001b[38;5;241;43m.\u001b[39;49m\u001b[43msave\u001b[49m\u001b[43m(\u001b[49m\u001b[38;5;124;43m'\u001b[39;49m\u001b[38;5;124;43mmapa.html\u001b[39;49m\u001b[38;5;124;43m'\u001b[39;49m\u001b[43m)\u001b[49m\n",
      "File \u001b[1;32mc:\\Users\\PEA\\AppData\\Local\\Programs\\Python\\Python311\\Lib\\site-packages\\branca\\element.py:228\u001b[0m, in \u001b[0;36mElement.save\u001b[1;34m(self, outfile, close_file, **kwargs)\u001b[0m\n\u001b[0;32m    225\u001b[0m     fid \u001b[38;5;241m=\u001b[39m outfile\n\u001b[0;32m    227\u001b[0m root \u001b[38;5;241m=\u001b[39m \u001b[38;5;28mself\u001b[39m\u001b[38;5;241m.\u001b[39mget_root()\n\u001b[1;32m--> 228\u001b[0m html \u001b[38;5;241m=\u001b[39m \u001b[43mroot\u001b[49m\u001b[38;5;241;43m.\u001b[39;49m\u001b[43mrender\u001b[49m\u001b[43m(\u001b[49m\u001b[38;5;241;43m*\u001b[39;49m\u001b[38;5;241;43m*\u001b[39;49m\u001b[43mkwargs\u001b[49m\u001b[43m)\u001b[49m\n\u001b[0;32m    229\u001b[0m fid\u001b[38;5;241m.\u001b[39mwrite(html\u001b[38;5;241m.\u001b[39mencode(\u001b[38;5;124m\"\u001b[39m\u001b[38;5;124mutf8\u001b[39m\u001b[38;5;124m\"\u001b[39m))\n\u001b[0;32m    230\u001b[0m \u001b[38;5;28;01mif\u001b[39;00m close_file:\n",
      "File \u001b[1;32mc:\\Users\\PEA\\AppData\\Local\\Programs\\Python\\Python311\\Lib\\site-packages\\branca\\element.py:405\u001b[0m, in \u001b[0;36mFigure.render\u001b[1;34m(self, **kwargs)\u001b[0m\n\u001b[0;32m    403\u001b[0m \u001b[38;5;250m\u001b[39m\u001b[38;5;124;03m\"\"\"Renders the HTML representation of the element.\"\"\"\u001b[39;00m\n\u001b[0;32m    404\u001b[0m \u001b[38;5;28;01mfor\u001b[39;00m name, child \u001b[38;5;129;01min\u001b[39;00m \u001b[38;5;28mself\u001b[39m\u001b[38;5;241m.\u001b[39m_children\u001b[38;5;241m.\u001b[39mitems():\n\u001b[1;32m--> 405\u001b[0m     \u001b[43mchild\u001b[49m\u001b[38;5;241;43m.\u001b[39;49m\u001b[43mrender\u001b[49m\u001b[43m(\u001b[49m\u001b[38;5;241;43m*\u001b[39;49m\u001b[38;5;241;43m*\u001b[39;49m\u001b[43mkwargs\u001b[49m\u001b[43m)\u001b[49m\n\u001b[0;32m    406\u001b[0m \u001b[38;5;28;01mreturn\u001b[39;00m \u001b[38;5;28mself\u001b[39m\u001b[38;5;241m.\u001b[39m_template\u001b[38;5;241m.\u001b[39mrender(this\u001b[38;5;241m=\u001b[39m\u001b[38;5;28mself\u001b[39m, kwargs\u001b[38;5;241m=\u001b[39mkwargs)\n",
      "File \u001b[1;32mc:\\Users\\PEA\\AppData\\Local\\Programs\\Python\\Python311\\Lib\\site-packages\\folium\\folium.py:417\u001b[0m, in \u001b[0;36mMap.render\u001b[1;34m(self, **kwargs)\u001b[0m\n\u001b[0;32m    390\u001b[0m figure\u001b[38;5;241m.\u001b[39mheader\u001b[38;5;241m.\u001b[39madd_child(\n\u001b[0;32m    391\u001b[0m     Element(\n\u001b[0;32m    392\u001b[0m         \u001b[38;5;124m\"\u001b[39m\u001b[38;5;124m<style>html, body \u001b[39m\u001b[38;5;124m{\u001b[39m\u001b[38;5;124m\"\u001b[39m\n\u001b[1;32m   (...)\u001b[0m\n\u001b[0;32m    400\u001b[0m     name\u001b[38;5;241m=\u001b[39m\u001b[38;5;124m\"\u001b[39m\u001b[38;5;124mcss_style\u001b[39m\u001b[38;5;124m\"\u001b[39m,\n\u001b[0;32m    401\u001b[0m )\n\u001b[0;32m    403\u001b[0m figure\u001b[38;5;241m.\u001b[39mheader\u001b[38;5;241m.\u001b[39madd_child(\n\u001b[0;32m    404\u001b[0m     Element(\n\u001b[0;32m    405\u001b[0m         \u001b[38;5;124m\"\u001b[39m\u001b[38;5;124m<style>#map \u001b[39m\u001b[38;5;124m{\u001b[39m\u001b[38;5;124m\"\u001b[39m\n\u001b[1;32m   (...)\u001b[0m\n\u001b[0;32m    414\u001b[0m     name\u001b[38;5;241m=\u001b[39m\u001b[38;5;124m\"\u001b[39m\u001b[38;5;124mmap_style\u001b[39m\u001b[38;5;124m\"\u001b[39m,\n\u001b[0;32m    415\u001b[0m )\n\u001b[1;32m--> 417\u001b[0m \u001b[38;5;28;43msuper\u001b[39;49m\u001b[43m(\u001b[49m\u001b[43m)\u001b[49m\u001b[38;5;241;43m.\u001b[39;49m\u001b[43mrender\u001b[49m\u001b[43m(\u001b[49m\u001b[38;5;241;43m*\u001b[39;49m\u001b[38;5;241;43m*\u001b[39;49m\u001b[43mkwargs\u001b[49m\u001b[43m)\u001b[49m\n",
      "File \u001b[1;32mc:\\Users\\PEA\\AppData\\Local\\Programs\\Python\\Python311\\Lib\\site-packages\\folium\\elements.py:27\u001b[0m, in \u001b[0;36mJSCSSMixin.render\u001b[1;34m(self, **kwargs)\u001b[0m\n\u001b[0;32m     24\u001b[0m \u001b[38;5;28;01mfor\u001b[39;00m name, url \u001b[38;5;129;01min\u001b[39;00m \u001b[38;5;28mself\u001b[39m\u001b[38;5;241m.\u001b[39mdefault_css:\n\u001b[0;32m     25\u001b[0m     figure\u001b[38;5;241m.\u001b[39mheader\u001b[38;5;241m.\u001b[39madd_child(CssLink(url), name\u001b[38;5;241m=\u001b[39mname)\n\u001b[1;32m---> 27\u001b[0m \u001b[38;5;28;43msuper\u001b[39;49m\u001b[43m(\u001b[49m\u001b[43m)\u001b[49m\u001b[38;5;241;43m.\u001b[39;49m\u001b[43mrender\u001b[49m\u001b[43m(\u001b[49m\u001b[38;5;241;43m*\u001b[39;49m\u001b[38;5;241;43m*\u001b[39;49m\u001b[43mkwargs\u001b[49m\u001b[43m)\u001b[49m\n",
      "File \u001b[1;32mc:\\Users\\PEA\\AppData\\Local\\Programs\\Python\\Python311\\Lib\\site-packages\\branca\\element.py:736\u001b[0m, in \u001b[0;36mMacroElement.render\u001b[1;34m(self, **kwargs)\u001b[0m\n\u001b[0;32m    733\u001b[0m     figure\u001b[38;5;241m.\u001b[39mscript\u001b[38;5;241m.\u001b[39madd_child(Element(script(\u001b[38;5;28mself\u001b[39m, kwargs)), name\u001b[38;5;241m=\u001b[39m\u001b[38;5;28mself\u001b[39m\u001b[38;5;241m.\u001b[39mget_name())\n\u001b[0;32m    735\u001b[0m \u001b[38;5;28;01mfor\u001b[39;00m name, element \u001b[38;5;129;01min\u001b[39;00m \u001b[38;5;28mself\u001b[39m\u001b[38;5;241m.\u001b[39m_children\u001b[38;5;241m.\u001b[39mitems():\n\u001b[1;32m--> 736\u001b[0m     \u001b[43melement\u001b[49m\u001b[38;5;241;43m.\u001b[39;49m\u001b[43mrender\u001b[49m\u001b[43m(\u001b[49m\u001b[38;5;241;43m*\u001b[39;49m\u001b[38;5;241;43m*\u001b[39;49m\u001b[43mkwargs\u001b[49m\u001b[43m)\u001b[49m\n",
      "File \u001b[1;32mc:\\Users\\PEA\\AppData\\Local\\Programs\\Python\\Python311\\Lib\\site-packages\\folium\\elements.py:27\u001b[0m, in \u001b[0;36mJSCSSMixin.render\u001b[1;34m(self, **kwargs)\u001b[0m\n\u001b[0;32m     24\u001b[0m \u001b[38;5;28;01mfor\u001b[39;00m name, url \u001b[38;5;129;01min\u001b[39;00m \u001b[38;5;28mself\u001b[39m\u001b[38;5;241m.\u001b[39mdefault_css:\n\u001b[0;32m     25\u001b[0m     figure\u001b[38;5;241m.\u001b[39mheader\u001b[38;5;241m.\u001b[39madd_child(CssLink(url), name\u001b[38;5;241m=\u001b[39mname)\n\u001b[1;32m---> 27\u001b[0m \u001b[38;5;28;43msuper\u001b[39;49m\u001b[43m(\u001b[49m\u001b[43m)\u001b[49m\u001b[38;5;241;43m.\u001b[39;49m\u001b[43mrender\u001b[49m\u001b[43m(\u001b[49m\u001b[38;5;241;43m*\u001b[39;49m\u001b[38;5;241;43m*\u001b[39;49m\u001b[43mkwargs\u001b[49m\u001b[43m)\u001b[49m\n",
      "File \u001b[1;32mc:\\Users\\PEA\\AppData\\Local\\Programs\\Python\\Python311\\Lib\\site-packages\\folium\\map.py:86\u001b[0m, in \u001b[0;36mLayer.render\u001b[1;34m(self, **kwargs)\u001b[0m\n\u001b[0;32m     78\u001b[0m \u001b[38;5;28;01mif\u001b[39;00m \u001b[38;5;28mself\u001b[39m\u001b[38;5;241m.\u001b[39mshow:\n\u001b[0;32m     79\u001b[0m     \u001b[38;5;28mself\u001b[39m\u001b[38;5;241m.\u001b[39madd_child(\n\u001b[0;32m     80\u001b[0m         ElementAddToElement(\n\u001b[0;32m     81\u001b[0m             element_name\u001b[38;5;241m=\u001b[39m\u001b[38;5;28mself\u001b[39m\u001b[38;5;241m.\u001b[39mget_name(),\n\u001b[1;32m   (...)\u001b[0m\n\u001b[0;32m     84\u001b[0m         name\u001b[38;5;241m=\u001b[39m\u001b[38;5;28mself\u001b[39m\u001b[38;5;241m.\u001b[39mget_name() \u001b[38;5;241m+\u001b[39m \u001b[38;5;124m\"\u001b[39m\u001b[38;5;124m_add\u001b[39m\u001b[38;5;124m\"\u001b[39m,\n\u001b[0;32m     85\u001b[0m     )\n\u001b[1;32m---> 86\u001b[0m \u001b[38;5;28;43msuper\u001b[39;49m\u001b[43m(\u001b[49m\u001b[43m)\u001b[49m\u001b[38;5;241;43m.\u001b[39;49m\u001b[43mrender\u001b[49m\u001b[43m(\u001b[49m\u001b[38;5;241;43m*\u001b[39;49m\u001b[38;5;241;43m*\u001b[39;49m\u001b[43mkwargs\u001b[49m\u001b[43m)\u001b[49m\n",
      "File \u001b[1;32mc:\\Users\\PEA\\AppData\\Local\\Programs\\Python\\Python311\\Lib\\site-packages\\branca\\element.py:736\u001b[0m, in \u001b[0;36mMacroElement.render\u001b[1;34m(self, **kwargs)\u001b[0m\n\u001b[0;32m    733\u001b[0m     figure\u001b[38;5;241m.\u001b[39mscript\u001b[38;5;241m.\u001b[39madd_child(Element(script(\u001b[38;5;28mself\u001b[39m, kwargs)), name\u001b[38;5;241m=\u001b[39m\u001b[38;5;28mself\u001b[39m\u001b[38;5;241m.\u001b[39mget_name())\n\u001b[0;32m    735\u001b[0m \u001b[38;5;28;01mfor\u001b[39;00m name, element \u001b[38;5;129;01min\u001b[39;00m \u001b[38;5;28mself\u001b[39m\u001b[38;5;241m.\u001b[39m_children\u001b[38;5;241m.\u001b[39mitems():\n\u001b[1;32m--> 736\u001b[0m     \u001b[43melement\u001b[49m\u001b[38;5;241;43m.\u001b[39;49m\u001b[43mrender\u001b[49m\u001b[43m(\u001b[49m\u001b[38;5;241;43m*\u001b[39;49m\u001b[38;5;241;43m*\u001b[39;49m\u001b[43mkwargs\u001b[49m\u001b[43m)\u001b[49m\n",
      "File \u001b[1;32mc:\\Users\\PEA\\AppData\\Local\\Programs\\Python\\Python311\\Lib\\site-packages\\folium\\map.py:409\u001b[0m, in \u001b[0;36mMarker.render\u001b[1;34m(self)\u001b[0m\n\u001b[0;32m    405\u001b[0m \u001b[38;5;28;01mif\u001b[39;00m \u001b[38;5;28mself\u001b[39m\u001b[38;5;241m.\u001b[39mlocation \u001b[38;5;129;01mis\u001b[39;00m \u001b[38;5;28;01mNone\u001b[39;00m:\n\u001b[0;32m    406\u001b[0m     \u001b[38;5;28;01mraise\u001b[39;00m \u001b[38;5;167;01mValueError\u001b[39;00m(\n\u001b[0;32m    407\u001b[0m         \u001b[38;5;124mf\u001b[39m\u001b[38;5;124m\"\u001b[39m\u001b[38;5;132;01m{\u001b[39;00m\u001b[38;5;28mself\u001b[39m\u001b[38;5;241m.\u001b[39m_name\u001b[38;5;132;01m}\u001b[39;00m\u001b[38;5;124m location must be assigned when added directly to map.\u001b[39m\u001b[38;5;124m\"\u001b[39m\n\u001b[0;32m    408\u001b[0m     )\n\u001b[1;32m--> 409\u001b[0m \u001b[38;5;28;43msuper\u001b[39;49m\u001b[43m(\u001b[49m\u001b[43m)\u001b[49m\u001b[38;5;241;43m.\u001b[39;49m\u001b[43mrender\u001b[49m\u001b[43m(\u001b[49m\u001b[43m)\u001b[49m\n",
      "File \u001b[1;32mc:\\Users\\PEA\\AppData\\Local\\Programs\\Python\\Python311\\Lib\\site-packages\\branca\\element.py:736\u001b[0m, in \u001b[0;36mMacroElement.render\u001b[1;34m(self, **kwargs)\u001b[0m\n\u001b[0;32m    733\u001b[0m     figure\u001b[38;5;241m.\u001b[39mscript\u001b[38;5;241m.\u001b[39madd_child(Element(script(\u001b[38;5;28mself\u001b[39m, kwargs)), name\u001b[38;5;241m=\u001b[39m\u001b[38;5;28mself\u001b[39m\u001b[38;5;241m.\u001b[39mget_name())\n\u001b[0;32m    735\u001b[0m \u001b[38;5;28;01mfor\u001b[39;00m name, element \u001b[38;5;129;01min\u001b[39;00m \u001b[38;5;28mself\u001b[39m\u001b[38;5;241m.\u001b[39m_children\u001b[38;5;241m.\u001b[39mitems():\n\u001b[1;32m--> 736\u001b[0m     \u001b[43melement\u001b[49m\u001b[38;5;241;43m.\u001b[39;49m\u001b[43mrender\u001b[49m\u001b[43m(\u001b[49m\u001b[38;5;241;43m*\u001b[39;49m\u001b[38;5;241;43m*\u001b[39;49m\u001b[43mkwargs\u001b[49m\u001b[43m)\u001b[49m\n",
      "File \u001b[1;32mc:\\Users\\PEA\\AppData\\Local\\Programs\\Python\\Python311\\Lib\\site-packages\\folium\\map.py:503\u001b[0m, in \u001b[0;36mPopup.render\u001b[1;34m(self, **kwargs)\u001b[0m\n\u001b[0;32m    497\u001b[0m figure \u001b[38;5;241m=\u001b[39m \u001b[38;5;28mself\u001b[39m\u001b[38;5;241m.\u001b[39mget_root()\n\u001b[0;32m    498\u001b[0m \u001b[38;5;28;01massert\u001b[39;00m \u001b[38;5;28misinstance\u001b[39m(\n\u001b[0;32m    499\u001b[0m     figure, Figure\n\u001b[0;32m    500\u001b[0m ), \u001b[38;5;124m\"\u001b[39m\u001b[38;5;124mYou cannot render this Element if it is not in a Figure.\u001b[39m\u001b[38;5;124m\"\u001b[39m\n\u001b[0;32m    502\u001b[0m figure\u001b[38;5;241m.\u001b[39mscript\u001b[38;5;241m.\u001b[39madd_child(\n\u001b[1;32m--> 503\u001b[0m     Element(\u001b[38;5;28;43mself\u001b[39;49m\u001b[38;5;241;43m.\u001b[39;49m\u001b[43m_template\u001b[49m\u001b[38;5;241;43m.\u001b[39;49m\u001b[43mrender\u001b[49m\u001b[43m(\u001b[49m\u001b[43mthis\u001b[49m\u001b[38;5;241;43m=\u001b[39;49m\u001b[38;5;28;43mself\u001b[39;49m\u001b[43m,\u001b[49m\u001b[43m \u001b[49m\u001b[43mkwargs\u001b[49m\u001b[38;5;241;43m=\u001b[39;49m\u001b[43mkwargs\u001b[49m\u001b[43m)\u001b[49m),\n\u001b[0;32m    504\u001b[0m     name\u001b[38;5;241m=\u001b[39m\u001b[38;5;28mself\u001b[39m\u001b[38;5;241m.\u001b[39mget_name(),\n\u001b[0;32m    505\u001b[0m )\n",
      "File \u001b[1;32mc:\\Users\\PEA\\AppData\\Local\\Programs\\Python\\Python311\\Lib\\site-packages\\jinja2\\environment.py:1302\u001b[0m, in \u001b[0;36mTemplate.render\u001b[1;34m(self, *args, **kwargs)\u001b[0m\n\u001b[0;32m   1299\u001b[0m ctx \u001b[38;5;241m=\u001b[39m \u001b[38;5;28mself\u001b[39m\u001b[38;5;241m.\u001b[39mnew_context(\u001b[38;5;28mdict\u001b[39m(\u001b[38;5;241m*\u001b[39margs, \u001b[38;5;241m*\u001b[39m\u001b[38;5;241m*\u001b[39mkwargs))\n\u001b[0;32m   1301\u001b[0m \u001b[38;5;28;01mtry\u001b[39;00m:\n\u001b[1;32m-> 1302\u001b[0m     \u001b[38;5;28;01mreturn\u001b[39;00m \u001b[38;5;28mself\u001b[39m\u001b[38;5;241m.\u001b[39menvironment\u001b[38;5;241m.\u001b[39mconcat(\u001b[38;5;28mself\u001b[39m\u001b[38;5;241m.\u001b[39mroot_render_func(ctx))  \u001b[38;5;66;03m# type: ignore\u001b[39;00m\n\u001b[0;32m   1303\u001b[0m \u001b[38;5;28;01mexcept\u001b[39;00m \u001b[38;5;167;01mException\u001b[39;00m:\n\u001b[0;32m   1304\u001b[0m     \u001b[38;5;28mself\u001b[39m\u001b[38;5;241m.\u001b[39menvironment\u001b[38;5;241m.\u001b[39mhandle_exception()\n",
      "File \u001b[1;32m<template>:42\u001b[0m, in \u001b[0;36mroot\u001b[1;34m(context, missing, environment)\u001b[0m\n",
      "File \u001b[1;32mc:\\Users\\PEA\\AppData\\Local\\Programs\\Python\\Python311\\Lib\\site-packages\\jinja2\\runtime.py:303\u001b[0m, in \u001b[0;36mContext.call\u001b[1;34m(_Context__self, _Context__obj, *args, **kwargs)\u001b[0m\n\u001b[0;32m    300\u001b[0m kwargs\u001b[38;5;241m.\u001b[39mpop(\u001b[38;5;124m\"\u001b[39m\u001b[38;5;124m_loop_vars\u001b[39m\u001b[38;5;124m\"\u001b[39m, \u001b[38;5;28;01mNone\u001b[39;00m)\n\u001b[0;32m    302\u001b[0m \u001b[38;5;28;01mtry\u001b[39;00m:\n\u001b[1;32m--> 303\u001b[0m     \u001b[38;5;28;01mreturn\u001b[39;00m \u001b[43m__obj\u001b[49m\u001b[43m(\u001b[49m\u001b[38;5;241;43m*\u001b[39;49m\u001b[43margs\u001b[49m\u001b[43m,\u001b[49m\u001b[43m \u001b[49m\u001b[38;5;241;43m*\u001b[39;49m\u001b[38;5;241;43m*\u001b[39;49m\u001b[43mkwargs\u001b[49m\u001b[43m)\u001b[49m\n\u001b[0;32m    304\u001b[0m \u001b[38;5;28;01mexcept\u001b[39;00m \u001b[38;5;167;01mStopIteration\u001b[39;00m:\n\u001b[0;32m    305\u001b[0m     \u001b[38;5;28;01mreturn\u001b[39;00m __self\u001b[38;5;241m.\u001b[39menvironment\u001b[38;5;241m.\u001b[39mundefined(\n\u001b[0;32m    306\u001b[0m         \u001b[38;5;124m\"\u001b[39m\u001b[38;5;124mvalue was undefined because a callable raised a\u001b[39m\u001b[38;5;124m\"\u001b[39m\n\u001b[0;32m    307\u001b[0m         \u001b[38;5;124m\"\u001b[39m\u001b[38;5;124m StopIteration exception\u001b[39m\u001b[38;5;124m\"\u001b[39m\n\u001b[0;32m    308\u001b[0m     )\n",
      "File \u001b[1;32mc:\\Users\\PEA\\AppData\\Local\\Programs\\Python\\Python311\\Lib\\site-packages\\branca\\element.py:204\u001b[0m, in \u001b[0;36mElement.render\u001b[1;34m(self, **kwargs)\u001b[0m\n\u001b[0;32m    202\u001b[0m \u001b[38;5;28;01mdef\u001b[39;00m \u001b[38;5;21mrender\u001b[39m(\u001b[38;5;28mself\u001b[39m, \u001b[38;5;241m*\u001b[39m\u001b[38;5;241m*\u001b[39mkwargs) \u001b[38;5;241m-\u001b[39m\u001b[38;5;241m>\u001b[39m \u001b[38;5;28mstr\u001b[39m:\n\u001b[0;32m    203\u001b[0m \u001b[38;5;250m    \u001b[39m\u001b[38;5;124;03m\"\"\"Renders the HTML representation of the element.\"\"\"\u001b[39;00m\n\u001b[1;32m--> 204\u001b[0m     \u001b[38;5;28;01mreturn\u001b[39;00m \u001b[38;5;28;43mself\u001b[39;49m\u001b[38;5;241;43m.\u001b[39;49m\u001b[43m_template\u001b[49m\u001b[38;5;241;43m.\u001b[39;49m\u001b[43mrender\u001b[49m\u001b[43m(\u001b[49m\u001b[43mthis\u001b[49m\u001b[38;5;241;43m=\u001b[39;49m\u001b[38;5;28;43mself\u001b[39;49m\u001b[43m,\u001b[49m\u001b[43m \u001b[49m\u001b[43mkwargs\u001b[49m\u001b[38;5;241;43m=\u001b[39;49m\u001b[43mkwargs\u001b[49m\u001b[43m)\u001b[49m\n",
      "File \u001b[1;32mc:\\Users\\PEA\\AppData\\Local\\Programs\\Python\\Python311\\Lib\\site-packages\\jinja2\\environment.py:1302\u001b[0m, in \u001b[0;36mTemplate.render\u001b[1;34m(self, *args, **kwargs)\u001b[0m\n\u001b[0;32m   1299\u001b[0m ctx \u001b[38;5;241m=\u001b[39m \u001b[38;5;28mself\u001b[39m\u001b[38;5;241m.\u001b[39mnew_context(\u001b[38;5;28mdict\u001b[39m(\u001b[38;5;241m*\u001b[39margs, \u001b[38;5;241m*\u001b[39m\u001b[38;5;241m*\u001b[39mkwargs))\n\u001b[0;32m   1301\u001b[0m \u001b[38;5;28;01mtry\u001b[39;00m:\n\u001b[1;32m-> 1302\u001b[0m     \u001b[38;5;28;01mreturn\u001b[39;00m \u001b[38;5;28mself\u001b[39m\u001b[38;5;241m.\u001b[39menvironment\u001b[38;5;241m.\u001b[39mconcat(\u001b[38;5;28mself\u001b[39m\u001b[38;5;241m.\u001b[39mroot_render_func(ctx))  \u001b[38;5;66;03m# type: ignore\u001b[39;00m\n\u001b[0;32m   1303\u001b[0m \u001b[38;5;28;01mexcept\u001b[39;00m \u001b[38;5;167;01mException\u001b[39;00m:\n\u001b[0;32m   1304\u001b[0m     \u001b[38;5;28mself\u001b[39m\u001b[38;5;241m.\u001b[39menvironment\u001b[38;5;241m.\u001b[39mhandle_exception()\n",
      "File \u001b[1;32m<template>:19\u001b[0m, in \u001b[0;36mroot\u001b[1;34m(context, missing, environment)\u001b[0m\n",
      "File \u001b[1;32mc:\\Users\\PEA\\AppData\\Local\\Programs\\Python\\Python311\\Lib\\site-packages\\jinja2\\runtime.py:303\u001b[0m, in \u001b[0;36mContext.call\u001b[1;34m(_Context__self, _Context__obj, *args, **kwargs)\u001b[0m\n\u001b[0;32m    300\u001b[0m kwargs\u001b[38;5;241m.\u001b[39mpop(\u001b[38;5;124m\"\u001b[39m\u001b[38;5;124m_loop_vars\u001b[39m\u001b[38;5;124m\"\u001b[39m, \u001b[38;5;28;01mNone\u001b[39;00m)\n\u001b[0;32m    302\u001b[0m \u001b[38;5;28;01mtry\u001b[39;00m:\n\u001b[1;32m--> 303\u001b[0m     \u001b[38;5;28;01mreturn\u001b[39;00m \u001b[43m__obj\u001b[49m\u001b[43m(\u001b[49m\u001b[38;5;241;43m*\u001b[39;49m\u001b[43margs\u001b[49m\u001b[43m,\u001b[49m\u001b[43m \u001b[49m\u001b[38;5;241;43m*\u001b[39;49m\u001b[38;5;241;43m*\u001b[39;49m\u001b[43mkwargs\u001b[49m\u001b[43m)\u001b[49m\n\u001b[0;32m    304\u001b[0m \u001b[38;5;28;01mexcept\u001b[39;00m \u001b[38;5;167;01mStopIteration\u001b[39;00m:\n\u001b[0;32m    305\u001b[0m     \u001b[38;5;28;01mreturn\u001b[39;00m __self\u001b[38;5;241m.\u001b[39menvironment\u001b[38;5;241m.\u001b[39mundefined(\n\u001b[0;32m    306\u001b[0m         \u001b[38;5;124m\"\u001b[39m\u001b[38;5;124mvalue was undefined because a callable raised a\u001b[39m\u001b[38;5;124m\"\u001b[39m\n\u001b[0;32m    307\u001b[0m         \u001b[38;5;124m\"\u001b[39m\u001b[38;5;124m StopIteration exception\u001b[39m\u001b[38;5;124m\"\u001b[39m\n\u001b[0;32m    308\u001b[0m     )\n",
      "File \u001b[1;32mc:\\Users\\PEA\\AppData\\Local\\Programs\\Python\\Python311\\Lib\\site-packages\\branca\\element.py:97\u001b[0m, in \u001b[0;36mElement.get_name\u001b[1;34m(self)\u001b[0m\n\u001b[0;32m     91\u001b[0m \u001b[38;5;28;01mdef\u001b[39;00m \u001b[38;5;21mget_name\u001b[39m(\u001b[38;5;28mself\u001b[39m) \u001b[38;5;241m-\u001b[39m\u001b[38;5;241m>\u001b[39m \u001b[38;5;28mstr\u001b[39m:\n\u001b[0;32m     92\u001b[0m \u001b[38;5;250m    \u001b[39m\u001b[38;5;124;03m\"\"\"Returns a string representation of the object.\u001b[39;00m\n\u001b[0;32m     93\u001b[0m \u001b[38;5;124;03m    This string has to be unique and to be a python and\u001b[39;00m\n\u001b[0;32m     94\u001b[0m \u001b[38;5;124;03m    javascript-compatible\u001b[39;00m\n\u001b[0;32m     95\u001b[0m \u001b[38;5;124;03m    variable name.\u001b[39;00m\n\u001b[0;32m     96\u001b[0m \u001b[38;5;124;03m    \"\"\"\u001b[39;00m\n\u001b[1;32m---> 97\u001b[0m     \u001b[38;5;28;01mreturn\u001b[39;00m \u001b[43m_camelify\u001b[49m\u001b[43m(\u001b[49m\u001b[38;5;28;43mself\u001b[39;49m\u001b[38;5;241;43m.\u001b[39;49m\u001b[43m_name\u001b[49m\u001b[43m)\u001b[49m \u001b[38;5;241m+\u001b[39m \u001b[38;5;124m\"\u001b[39m\u001b[38;5;124m_\u001b[39m\u001b[38;5;124m\"\u001b[39m \u001b[38;5;241m+\u001b[39m \u001b[38;5;28mself\u001b[39m\u001b[38;5;241m.\u001b[39m_id\n",
      "File \u001b[1;32mc:\\Users\\PEA\\AppData\\Local\\Programs\\Python\\Python311\\Lib\\site-packages\\branca\\utilities.py:367\u001b[0m, in \u001b[0;36m_camelify\u001b[1;34m(out)\u001b[0m\n\u001b[0;32m    353\u001b[0m \u001b[38;5;28;01mdef\u001b[39;00m \u001b[38;5;21m_camelify\u001b[39m(out: \u001b[38;5;28mstr\u001b[39m) \u001b[38;5;241m-\u001b[39m\u001b[38;5;241m>\u001b[39m \u001b[38;5;28mstr\u001b[39m:\n\u001b[0;32m    354\u001b[0m     \u001b[38;5;28;01mreturn\u001b[39;00m (\n\u001b[0;32m    355\u001b[0m         (\n\u001b[0;32m    356\u001b[0m             \u001b[38;5;124m\"\u001b[39m\u001b[38;5;124m\"\u001b[39m\u001b[38;5;241m.\u001b[39mjoin(\n\u001b[0;32m    357\u001b[0m                 [\n\u001b[0;32m    358\u001b[0m                     (\n\u001b[0;32m    359\u001b[0m                         \u001b[38;5;124m\"\u001b[39m\u001b[38;5;124m_\u001b[39m\u001b[38;5;124m\"\u001b[39m \u001b[38;5;241m+\u001b[39m x\u001b[38;5;241m.\u001b[39mlower()\n\u001b[0;32m    360\u001b[0m                         \u001b[38;5;28;01mif\u001b[39;00m i \u001b[38;5;241m<\u001b[39m \u001b[38;5;28mlen\u001b[39m(out) \u001b[38;5;241m-\u001b[39m \u001b[38;5;241m1\u001b[39m \u001b[38;5;129;01mand\u001b[39;00m x\u001b[38;5;241m.\u001b[39misupper() \u001b[38;5;129;01mand\u001b[39;00m out[i \u001b[38;5;241m+\u001b[39m \u001b[38;5;241m1\u001b[39m]\u001b[38;5;241m.\u001b[39mislower()\n\u001b[0;32m    361\u001b[0m                         \u001b[38;5;28;01melse\u001b[39;00m (\n\u001b[0;32m    362\u001b[0m                             x\u001b[38;5;241m.\u001b[39mlower() \u001b[38;5;241m+\u001b[39m \u001b[38;5;124m\"\u001b[39m\u001b[38;5;124m_\u001b[39m\u001b[38;5;124m\"\u001b[39m\n\u001b[0;32m    363\u001b[0m                             \u001b[38;5;28;01mif\u001b[39;00m i \u001b[38;5;241m<\u001b[39m \u001b[38;5;28mlen\u001b[39m(out) \u001b[38;5;241m-\u001b[39m \u001b[38;5;241m1\u001b[39m \u001b[38;5;129;01mand\u001b[39;00m x\u001b[38;5;241m.\u001b[39mislower() \u001b[38;5;129;01mand\u001b[39;00m out[i \u001b[38;5;241m+\u001b[39m \u001b[38;5;241m1\u001b[39m]\u001b[38;5;241m.\u001b[39misupper()\n\u001b[0;32m    364\u001b[0m                             \u001b[38;5;28;01melse\u001b[39;00m x\u001b[38;5;241m.\u001b[39mlower()\n\u001b[0;32m    365\u001b[0m                         )\n\u001b[0;32m    366\u001b[0m                     )\n\u001b[1;32m--> 367\u001b[0m                     \u001b[38;5;28;01mfor\u001b[39;00m i, x \u001b[38;5;129;01min\u001b[39;00m \u001b[38;5;28menumerate\u001b[39m(\u001b[38;5;28mlist\u001b[39m(out))\n\u001b[0;32m    368\u001b[0m                 ],\n\u001b[0;32m    369\u001b[0m             )\n\u001b[0;32m    370\u001b[0m         )\n\u001b[0;32m    371\u001b[0m         \u001b[38;5;241m.\u001b[39mlstrip(\u001b[38;5;124m\"\u001b[39m\u001b[38;5;124m_\u001b[39m\u001b[38;5;124m\"\u001b[39m)\n\u001b[0;32m    372\u001b[0m         \u001b[38;5;241m.\u001b[39mreplace(\u001b[38;5;124m\"\u001b[39m\u001b[38;5;124m__\u001b[39m\u001b[38;5;124m\"\u001b[39m, \u001b[38;5;124m\"\u001b[39m\u001b[38;5;124m_\u001b[39m\u001b[38;5;124m\"\u001b[39m)\n\u001b[0;32m    373\u001b[0m     )\n",
      "\u001b[1;31mKeyboardInterrupt\u001b[0m: "
     ]
    }
   ],
   "source": [
    "import folium\n",
    "from folium.plugins import MarkerCluster\n",
    "\n",
    "\n",
    "# Criar um mapa básico com pontos de latitude/longitude\n",
    "mapa = folium.Map(location=[df_negocios['latitude'].mean(), df_negocios['longitude'].mean()], zoom_start=10)\n",
    "\n",
    "marker_cluster = MarkerCluster().add_to(mapa)\n",
    "\n",
    "for _, row in df_negocios.iterrows():\n",
    "    folium.Marker(location=[row['latitude'], row['longitude']], popup=row['name']).add_to(marker_cluster)\n",
    "\n",
    "mapa.save('mapa.html')"
   ]
  },
  {
   "cell_type": "markdown",
   "metadata": {},
   "source": [
    "# Contagem de Negócios por Estado\n",
    "A contagem dos negócios por estado revela a distribuição geográfica dos dados, ajudando a identificar regiões com maior ou menor presença no Yelp. Isso é útil para estratégias de marketing e análise de mercado, além de detectar possíveis desequilíbrios nos dados."
   ]
  },
  {
   "cell_type": "code",
   "execution_count": 23,
   "metadata": {},
   "outputs": [
    {
     "name": "stdout",
     "output_type": "stream",
     "text": [
      "state\n",
      "PA     34013\n",
      "FL     26309\n",
      "TN     12051\n",
      "IN     11243\n",
      "MO     10907\n",
      "LA      9916\n",
      "AZ      9906\n",
      "NJ      8527\n",
      "NV      7706\n",
      "AB      5572\n",
      "CA      5202\n",
      "ID      4464\n",
      "DE      2262\n",
      "IL      2144\n",
      "TX         4\n",
      "CO         3\n",
      "HI         2\n",
      "MA         2\n",
      "WA         2\n",
      "UT         1\n",
      "NC         1\n",
      "MI         1\n",
      "MT         1\n",
      "SD         1\n",
      "XMS        1\n",
      "VI         1\n",
      "VT         1\n",
      "Name: count, dtype: int64\n"
     ]
    }
   ],
   "source": [
    "estado_contagem = df_negocios['state'].value_counts()\n",
    "print(estado_contagem)"
   ]
  },
  {
   "cell_type": "markdown",
   "metadata": {},
   "source": [
    "# Conversão de Colunas Booleanas e Salvamento dos Dados Limpos\n",
    "Aqui, as colunas booleanas são convertidas para o tipo booleano correto (True/False) usando o método map(), o que facilita a análise. Após essa conversão, os dados são salvos no formato Parquet, garantindo um armazenamento eficiente e mantendo a integridade dos dados para futuras análises."
   ]
  },
  {
   "cell_type": "code",
   "execution_count": 24,
   "metadata": {},
   "outputs": [],
   "source": [
    "\n",
    "boolean_columns = [\n",
    "\t'BikeParking', 'BusinessAcceptsCreditCards', 'ByAppointmentOnly', \n",
    "\t'DogsAllowed', 'GoodForKids', 'GoodForMeal', 'HappyHour', \n",
    "\t'RestaurantsDelivery', 'RestaurantsGoodForGroups', 'RestaurantsReservations', \n",
    "\t'RestaurantsTableService', 'RestaurantsTakeOut', 'WheelchairAccessible'\n",
    "]\n",
    "\n",
    "for column in boolean_columns:\n",
    "\tdf_negocios[column] = df_negocios[column].map({'True': True, 'False': False})\n",
    "\n",
    "df_negocios.to_parquet('./yelp_academic_dataset_business_cleaned.parquet')"
   ]
  },
  {
   "cell_type": "markdown",
   "metadata": {},
   "source": [
    "# Carregando o Conjunto de Dados de Dicas do Yelp\n",
    "A célula carrega o conjunto de dados de dicas do Yelp em um DataFrame df_tip, permitindo explorar as interações dos usuários com os negócios. O formato Parquet facilita a leitura e armazenamento eficiente. A função head() exibe as primeiras linhas para uma visão inicial dos dados."
   ]
  },
  {
   "cell_type": "code",
   "execution_count": 25,
   "metadata": {},
   "outputs": [
    {
     "data": {
      "text/html": [
       "<div>\n",
       "<style scoped>\n",
       "    .dataframe tbody tr th:only-of-type {\n",
       "        vertical-align: middle;\n",
       "    }\n",
       "\n",
       "    .dataframe tbody tr th {\n",
       "        vertical-align: top;\n",
       "    }\n",
       "\n",
       "    .dataframe thead th {\n",
       "        text-align: right;\n",
       "    }\n",
       "</style>\n",
       "<table border=\"1\" class=\"dataframe\">\n",
       "  <thead>\n",
       "    <tr style=\"text-align: right;\">\n",
       "      <th></th>\n",
       "      <th>user_id</th>\n",
       "      <th>business_id</th>\n",
       "      <th>text</th>\n",
       "      <th>date</th>\n",
       "      <th>compliment_count</th>\n",
       "    </tr>\n",
       "  </thead>\n",
       "  <tbody>\n",
       "    <tr>\n",
       "      <th>0</th>\n",
       "      <td>AGNUgVwnZUey3gcPCJ76iw</td>\n",
       "      <td>3uLgwr0qeCNMjKenHJwPGQ</td>\n",
       "      <td>Avengers time with the ladies.</td>\n",
       "      <td>2012-05-18 02:17:21</td>\n",
       "      <td>0</td>\n",
       "    </tr>\n",
       "    <tr>\n",
       "      <th>1</th>\n",
       "      <td>NBN4MgHP9D3cw--SnauTkA</td>\n",
       "      <td>QoezRbYQncpRqyrLH6Iqjg</td>\n",
       "      <td>They have lots of good deserts and tasty cuban...</td>\n",
       "      <td>2013-02-05 18:35:10</td>\n",
       "      <td>0</td>\n",
       "    </tr>\n",
       "    <tr>\n",
       "      <th>2</th>\n",
       "      <td>-copOvldyKh1qr-vzkDEvw</td>\n",
       "      <td>MYoRNLb5chwjQe3c_k37Gg</td>\n",
       "      <td>It's open even when you think it isn't</td>\n",
       "      <td>2013-08-18 00:56:08</td>\n",
       "      <td>0</td>\n",
       "    </tr>\n",
       "    <tr>\n",
       "      <th>3</th>\n",
       "      <td>FjMQVZjSqY8syIO-53KFKw</td>\n",
       "      <td>hV-bABTK-glh5wj31ps_Jw</td>\n",
       "      <td>Very decent fried chicken</td>\n",
       "      <td>2017-06-27 23:05:38</td>\n",
       "      <td>0</td>\n",
       "    </tr>\n",
       "    <tr>\n",
       "      <th>4</th>\n",
       "      <td>ld0AperBXk1h6UbqmM80zw</td>\n",
       "      <td>_uN0OudeJ3Zl_tf6nxg5ww</td>\n",
       "      <td>Appetizers.. platter special for lunch</td>\n",
       "      <td>2012-10-06 19:43:09</td>\n",
       "      <td>0</td>\n",
       "    </tr>\n",
       "  </tbody>\n",
       "</table>\n",
       "</div>"
      ],
      "text/plain": [
       "                  user_id             business_id  \\\n",
       "0  AGNUgVwnZUey3gcPCJ76iw  3uLgwr0qeCNMjKenHJwPGQ   \n",
       "1  NBN4MgHP9D3cw--SnauTkA  QoezRbYQncpRqyrLH6Iqjg   \n",
       "2  -copOvldyKh1qr-vzkDEvw  MYoRNLb5chwjQe3c_k37Gg   \n",
       "3  FjMQVZjSqY8syIO-53KFKw  hV-bABTK-glh5wj31ps_Jw   \n",
       "4  ld0AperBXk1h6UbqmM80zw  _uN0OudeJ3Zl_tf6nxg5ww   \n",
       "\n",
       "                                                text                date  \\\n",
       "0                     Avengers time with the ladies. 2012-05-18 02:17:21   \n",
       "1  They have lots of good deserts and tasty cuban... 2013-02-05 18:35:10   \n",
       "2             It's open even when you think it isn't 2013-08-18 00:56:08   \n",
       "3                          Very decent fried chicken 2017-06-27 23:05:38   \n",
       "4             Appetizers.. platter special for lunch 2012-10-06 19:43:09   \n",
       "\n",
       "   compliment_count  \n",
       "0                 0  \n",
       "1                 0  \n",
       "2                 0  \n",
       "3                 0  \n",
       "4                 0  "
      ]
     },
     "execution_count": 25,
     "metadata": {},
     "output_type": "execute_result"
    }
   ],
   "source": [
    "import pandas as pd\n",
    "\n",
    "file_path = 'yelp_academic_dataset_tip.parquet'\n",
    "df_tip = pd.read_parquet(file_path)\n",
    "\n",
    "df_tip.head()"
   ]
  },
  {
   "cell_type": "markdown",
   "metadata": {},
   "source": [
    "# Exibindo as Colunas do Conjunto de Dados de Dicas\n",
    "Nesta célula, obtemos e exibimos os nomes das colunas do DataFrame df_tip para entender rapidamente a estrutura dos dados. Isso ajuda a identificar as variáveis disponíveis para análise, como user_id, business_id, date, e text, essenciais para explorar padrões de comportamento e opiniões dos usuários."
   ]
  },
  {
   "cell_type": "code",
   "execution_count": 26,
   "metadata": {},
   "outputs": [
    {
     "name": "stdout",
     "output_type": "stream",
     "text": [
      "['user_id', 'business_id', 'text', 'date', 'compliment_count']\n"
     ]
    }
   ],
   "source": [
    "columns_tip = list(df_tip.columns)\n",
    "print(columns_tip)"
   ]
  },
  {
   "cell_type": "code",
   "execution_count": 27,
   "metadata": {},
   "outputs": [],
   "source": [
    "df_tip = df_tip.drop_duplicates()"
   ]
  },
  {
   "cell_type": "code",
   "execution_count": 28,
   "metadata": {},
   "outputs": [],
   "source": [
    "df_tip = df_tip.dropna()"
   ]
  },
  {
   "cell_type": "code",
   "execution_count": 29,
   "metadata": {},
   "outputs": [],
   "source": [
    "df_tip['text'] = df_tip['text'].str.lower().str.strip()"
   ]
  },
  {
   "cell_type": "code",
   "execution_count": 30,
   "metadata": {},
   "outputs": [
    {
     "name": "stdout",
     "output_type": "stream",
     "text": [
      "user_id             0\n",
      "business_id         0\n",
      "text                0\n",
      "date                0\n",
      "compliment_count    0\n",
      "dtype: int64\n"
     ]
    }
   ],
   "source": [
    "null_counts_tip = df_tip.isnull().sum()\n",
    "print(null_counts_tip)"
   ]
  },
  {
   "cell_type": "code",
   "execution_count": 31,
   "metadata": {},
   "outputs": [
    {
     "name": "stdout",
     "output_type": "stream",
     "text": [
      "<class 'pandas.core.frame.DataFrame'>\n",
      "Index: 908848 entries, 0 to 908914\n",
      "Data columns (total 5 columns):\n",
      " #   Column            Non-Null Count   Dtype         \n",
      "---  ------            --------------   -----         \n",
      " 0   user_id           908848 non-null  object        \n",
      " 1   business_id       908848 non-null  object        \n",
      " 2   text              908848 non-null  object        \n",
      " 3   date              908848 non-null  datetime64[ns]\n",
      " 4   compliment_count  908848 non-null  int64         \n",
      "dtypes: datetime64[ns](1), int64(1), object(3)\n",
      "memory usage: 41.6+ MB\n"
     ]
    }
   ],
   "source": [
    "df_tip.info()"
   ]
  },
  {
   "cell_type": "code",
   "execution_count": 32,
   "metadata": {},
   "outputs": [
    {
     "data": {
      "text/html": [
       "<div>\n",
       "<style scoped>\n",
       "    .dataframe tbody tr th:only-of-type {\n",
       "        vertical-align: middle;\n",
       "    }\n",
       "\n",
       "    .dataframe tbody tr th {\n",
       "        vertical-align: top;\n",
       "    }\n",
       "\n",
       "    .dataframe thead th {\n",
       "        text-align: right;\n",
       "    }\n",
       "</style>\n",
       "<table border=\"1\" class=\"dataframe\">\n",
       "  <thead>\n",
       "    <tr style=\"text-align: right;\">\n",
       "      <th></th>\n",
       "      <th>date</th>\n",
       "      <th>compliment_count</th>\n",
       "    </tr>\n",
       "  </thead>\n",
       "  <tbody>\n",
       "    <tr>\n",
       "      <th>count</th>\n",
       "      <td>908848</td>\n",
       "      <td>908848.000000</td>\n",
       "    </tr>\n",
       "    <tr>\n",
       "      <th>mean</th>\n",
       "      <td>2015-06-14 10:29:31.463819520</td>\n",
       "      <td>0.012526</td>\n",
       "    </tr>\n",
       "    <tr>\n",
       "      <th>min</th>\n",
       "      <td>2009-04-16 13:11:49</td>\n",
       "      <td>0.000000</td>\n",
       "    </tr>\n",
       "    <tr>\n",
       "      <th>25%</th>\n",
       "      <td>2013-01-26 01:28:06.750000128</td>\n",
       "      <td>0.000000</td>\n",
       "    </tr>\n",
       "    <tr>\n",
       "      <th>50%</th>\n",
       "      <td>2015-03-15 01:22:40</td>\n",
       "      <td>0.000000</td>\n",
       "    </tr>\n",
       "    <tr>\n",
       "      <th>75%</th>\n",
       "      <td>2017-08-02 05:30:16</td>\n",
       "      <td>0.000000</td>\n",
       "    </tr>\n",
       "    <tr>\n",
       "      <th>max</th>\n",
       "      <td>2022-01-19 20:38:55</td>\n",
       "      <td>6.000000</td>\n",
       "    </tr>\n",
       "    <tr>\n",
       "      <th>std</th>\n",
       "      <td>NaN</td>\n",
       "      <td>0.120768</td>\n",
       "    </tr>\n",
       "  </tbody>\n",
       "</table>\n",
       "</div>"
      ],
      "text/plain": [
       "                                date  compliment_count\n",
       "count                         908848     908848.000000\n",
       "mean   2015-06-14 10:29:31.463819520          0.012526\n",
       "min              2009-04-16 13:11:49          0.000000\n",
       "25%    2013-01-26 01:28:06.750000128          0.000000\n",
       "50%              2015-03-15 01:22:40          0.000000\n",
       "75%              2017-08-02 05:30:16          0.000000\n",
       "max              2022-01-19 20:38:55          6.000000\n",
       "std                              NaN          0.120768"
      ]
     },
     "execution_count": 32,
     "metadata": {},
     "output_type": "execute_result"
    }
   ],
   "source": [
    "df_tip.describe()"
   ]
  },
  {
   "cell_type": "markdown",
   "metadata": {},
   "source": [
    "# Filtrando Negócios com Mais de 100 Reviews\n",
    "Esta célula filtra os negócios com mais de 100 reviews, permitindo focar em empresas com maior volume de interações dos usuários, o que pode indicar maior popularidade ou relevância. Isso é útil para analisar padrões em negócios mais destacados."
   ]
  },
  {
   "cell_type": "code",
   "execution_count": 33,
   "metadata": {},
   "outputs": [
    {
     "data": {
      "text/html": [
       "<div>\n",
       "<style scoped>\n",
       "    .dataframe tbody tr th:only-of-type {\n",
       "        vertical-align: middle;\n",
       "    }\n",
       "\n",
       "    .dataframe tbody tr th {\n",
       "        vertical-align: top;\n",
       "    }\n",
       "\n",
       "    .dataframe thead th {\n",
       "        text-align: right;\n",
       "    }\n",
       "</style>\n",
       "<table border=\"1\" class=\"dataframe\">\n",
       "  <thead>\n",
       "    <tr style=\"text-align: right;\">\n",
       "      <th></th>\n",
       "      <th>user_id</th>\n",
       "      <th>business_id</th>\n",
       "      <th>text</th>\n",
       "      <th>date</th>\n",
       "      <th>compliment_count</th>\n",
       "    </tr>\n",
       "  </thead>\n",
       "  <tbody>\n",
       "    <tr>\n",
       "      <th>8</th>\n",
       "      <td>VL12EhEdT4OWqGq0nIqkzw</td>\n",
       "      <td>xODBZmX4EmlVvbqtKN7YKg</td>\n",
       "      <td>tacos</td>\n",
       "      <td>2012-07-27 01:48:24</td>\n",
       "      <td>0</td>\n",
       "    </tr>\n",
       "    <tr>\n",
       "      <th>17</th>\n",
       "      <td>kjFgyrCvmVVGSlgWzRXILw</td>\n",
       "      <td>ReX09lhufLTAx19krkltDA</td>\n",
       "      <td>got the grilled chicken entree. it was delicio...</td>\n",
       "      <td>2013-06-10 20:18:41</td>\n",
       "      <td>0</td>\n",
       "    </tr>\n",
       "    <tr>\n",
       "      <th>22</th>\n",
       "      <td>phKNHTaokisQkZ7qQbxryA</td>\n",
       "      <td>pWuoHHu0LuVrD0HjadDygg</td>\n",
       "      <td>crepes please!!!</td>\n",
       "      <td>2010-11-21 20:52:49</td>\n",
       "      <td>0</td>\n",
       "    </tr>\n",
       "    <tr>\n",
       "      <th>28</th>\n",
       "      <td>CozGguiwx7JEVk7cAwdvpA</td>\n",
       "      <td>ghsaIqQ1xY3cWtWWJ4QW5w</td>\n",
       "      <td>icky on tap</td>\n",
       "      <td>2010-12-27 20:38:49</td>\n",
       "      <td>0</td>\n",
       "    </tr>\n",
       "    <tr>\n",
       "      <th>30</th>\n",
       "      <td>jDThlALkraoQLLBYHqY7FQ</td>\n",
       "      <td>9DJhhBqQSu-gTBwaqdhgpQ</td>\n",
       "      <td>come early for the best service as they fill u...</td>\n",
       "      <td>2016-01-16 19:13:57</td>\n",
       "      <td>0</td>\n",
       "    </tr>\n",
       "  </tbody>\n",
       "</table>\n",
       "</div>"
      ],
      "text/plain": [
       "                   user_id             business_id  \\\n",
       "8   VL12EhEdT4OWqGq0nIqkzw  xODBZmX4EmlVvbqtKN7YKg   \n",
       "17  kjFgyrCvmVVGSlgWzRXILw  ReX09lhufLTAx19krkltDA   \n",
       "22  phKNHTaokisQkZ7qQbxryA  pWuoHHu0LuVrD0HjadDygg   \n",
       "28  CozGguiwx7JEVk7cAwdvpA  ghsaIqQ1xY3cWtWWJ4QW5w   \n",
       "30  jDThlALkraoQLLBYHqY7FQ  9DJhhBqQSu-gTBwaqdhgpQ   \n",
       "\n",
       "                                                 text                date  \\\n",
       "8                                               tacos 2012-07-27 01:48:24   \n",
       "17  got the grilled chicken entree. it was delicio... 2013-06-10 20:18:41   \n",
       "22                                   crepes please!!! 2010-11-21 20:52:49   \n",
       "28                                        icky on tap 2010-12-27 20:38:49   \n",
       "30  come early for the best service as they fill u... 2016-01-16 19:13:57   \n",
       "\n",
       "    compliment_count  \n",
       "8                  0  \n",
       "17                 0  \n",
       "22                 0  \n",
       "28                 0  \n",
       "30                 0  "
      ]
     },
     "execution_count": 33,
     "metadata": {},
     "output_type": "execute_result"
    }
   ],
   "source": [
    "#Filtra os negócios que possuem mais de 100 reviews\n",
    "contagem_reviews = df_tip['business_id'].value_counts()\n",
    "ids_mais_reviews = contagem_reviews[contagem_reviews > 100].index\n",
    "\n",
    "df_tip_mais_reviews = df_tip[df_tip['business_id'].isin(ids_mais_reviews)]\n",
    "df_tip_mais_reviews.head()"
   ]
  },
  {
   "cell_type": "code",
   "execution_count": 36,
   "metadata": {},
   "outputs": [
    {
     "name": "stdout",
     "output_type": "stream",
     "text": [
      "                  user_id             business_id  \\\n",
      "0  AGNUgVwnZUey3gcPCJ76iw  3uLgwr0qeCNMjKenHJwPGQ   \n",
      "1  NBN4MgHP9D3cw--SnauTkA  QoezRbYQncpRqyrLH6Iqjg   \n",
      "2  -copOvldyKh1qr-vzkDEvw  MYoRNLb5chwjQe3c_k37Gg   \n",
      "3  FjMQVZjSqY8syIO-53KFKw  hV-bABTK-glh5wj31ps_Jw   \n",
      "4  ld0AperBXk1h6UbqmM80zw  _uN0OudeJ3Zl_tf6nxg5ww   \n",
      "\n",
      "                                                text                date  \\\n",
      "0                     avengers time with the ladies. 2012-05-18 02:17:21   \n",
      "1  they have lots of good deserts and tasty cuban... 2013-02-05 18:35:10   \n",
      "2             it's open even when you think it isn't 2013-08-18 00:56:08   \n",
      "3                          very decent fried chicken 2017-06-27 23:05:38   \n",
      "4             appetizers.. platter special for lunch 2012-10-06 19:43:09   \n",
      "\n",
      "   compliment_count  \n",
      "0                 0  \n",
      "1                 0  \n",
      "2                 0  \n",
      "3                 0  \n",
      "4                 0  \n"
     ]
    }
   ],
   "source": [
    "print(df_tip.head())"
   ]
  },
  {
   "cell_type": "code",
   "execution_count": 35,
   "metadata": {},
   "outputs": [],
   "source": [
    "df_tip_mais_reviews.to_parquet('./yelp_academic_dataset_tip_cleaned.parquet')"
   ]
  },
  {
   "cell_type": "code",
   "execution_count": 50,
   "metadata": {},
   "outputs": [
    {
     "name": "stdout",
     "output_type": "stream",
     "text": [
      "\n",
      "Top 10 cidades com mais estabelecimentos bem avaliados:\n",
      "               media_avaliacao  total_estabelecimentos\n",
      "city                                                  \n",
      "philadelphia          4.675896                    4298\n",
      "tucson                4.698089                    2721\n",
      "tampa                 4.684624                    2673\n",
      "reno                  4.716222                    2250\n",
      "new orleans           4.668840                    2224\n",
      "indianapolis          4.669005                    2210\n",
      "nashville             4.689114                    2168\n",
      "santa barbara         4.757353                    1904\n",
      "saint louis           4.657471                    1305\n",
      "boise                 4.714778                    1015\n"
     ]
    }
   ],
   "source": [
    "# Análise das 10 cidades com mais estabelecimentos bem avaliados\n",
    "cidade_bem_avaliada = estabelecimentos_bem_avaliados.groupby('city').agg(\n",
    "    media_avaliacao=('stars', 'mean'),\n",
    "    total_estabelecimentos=('business_id', 'count')\n",
    ").sort_values(by='total_estabelecimentos', ascending=False)\n",
    "\n",
    "# Exibir as top 10 cidades com mais estabelecimentos bem avaliados\n",
    "print(\"\\nTop 10 cidades com mais estabelecimentos bem avaliados:\")\n",
    "print(cidade_bem_avaliada.head(10).to_string())"
   ]
  },
  {
   "cell_type": "code",
   "execution_count": 49,
   "metadata": {},
   "outputs": [
    {
     "name": "stdout",
     "output_type": "stream",
     "text": [
      "\n",
      "Estabelecimentos bem avaliados nas 10 cidades mais populares:\n",
      "                            name          city                                                                                                  categories\n",
      "        Abby Rappoport, LAC, CMQ santa barbara  doctors, traditional chinese medicine, naturopathic/holistic, acupuncture, health & medical, nutritionists\n",
      "        Arizona Truck Outfitters        tucson                                                       automotive, auto parts & supplies, auto customization\n",
      "                             BAP  philadelphia                                                                                         korean, restaurants\n",
      "Altitude Trampoline Park - Boise         boise                                                                               trampoline parks, active life\n",
      "Big Boyz Toyz Motorcycle Rentals        tucson                           towing, hotels & travel, automotive, motorcycle rental, motorcycle gear, shopping\n",
      "       Bier Brewery and Tap Room  indianapolis                                                                       food, beer, wine & spirits, breweries\n",
      "                 AM&PM Locksmith  philadelphia                                                            keys & locksmiths, home services, local services\n",
      "                     Copper Vine   new orleans nightlife, pubs, event planning & services, wine bars, bars, gastropubs, restaurants, venues & event spaces\n",
      "                Mike's Ice Cream     nashville                                      ice cream & frozen yogurt, coffee & tea, restaurants, sandwiches, food\n",
      "            Iron Horse Auto Body santa barbara                                                                              towing, automotive, body shops\n"
     ]
    }
   ],
   "source": [
    "#Filtrando estabelecimentos bem avaliados (média de estrelas > 4)\n",
    "estabelecimentos_bem_avaliados = df_negocios[df_negocios['stars'] > 4]\n",
    "# Listagem dos estabelecimentos bem avaliados\n",
    "print(\"\\nEstabelecimentos bem avaliados nas 10 cidades mais populares:\")\n",
    "top_10_cidades = cidade_bem_avaliada.head(10).index\n",
    "\n",
    "# Filtrando os negócios nas 10 cidades mais populares\n",
    "estabelecimentos_populares = estabelecimentos_bem_avaliados[estabelecimentos_bem_avaliados['city'].isin(top_10_cidades)]\n",
    "\n",
    "# Exibindo detalhes dos estabelecimentos\n",
    "print(estabelecimentos_populares[['name', 'city', 'categories']].head(10).to_string(index=False))"
   ]
  },
  {
   "cell_type": "markdown",
   "metadata": {},
   "source": [
    "# Mesclando os dois datasets: 'business' e 'tip'\n",
    "O objetivo é que o 'df_tip_business' armazene o número de comentários e avaliações (estrelas) de cada negócio."
   ]
  },
  {
   "cell_type": "code",
   "execution_count": 77,
   "metadata": {},
   "outputs": [
    {
     "data": {
      "text/html": [
       "<div>\n",
       "<style scoped>\n",
       "    .dataframe tbody tr th:only-of-type {\n",
       "        vertical-align: middle;\n",
       "    }\n",
       "\n",
       "    .dataframe tbody tr th {\n",
       "        vertical-align: top;\n",
       "    }\n",
       "\n",
       "    .dataframe thead th {\n",
       "        text-align: right;\n",
       "    }\n",
       "</style>\n",
       "<table border=\"1\" class=\"dataframe\">\n",
       "  <thead>\n",
       "    <tr style=\"text-align: right;\">\n",
       "      <th></th>\n",
       "      <th>business_id</th>\n",
       "      <th>total_comments</th>\n",
       "      <th>stars</th>\n",
       "    </tr>\n",
       "  </thead>\n",
       "  <tbody>\n",
       "    <tr>\n",
       "      <th>0</th>\n",
       "      <td>---kPU91CF4Lq2-WlRu9Lw</td>\n",
       "      <td>4</td>\n",
       "      <td>4.5</td>\n",
       "    </tr>\n",
       "    <tr>\n",
       "      <th>1</th>\n",
       "      <td>--0iUa4sNDFiZFrAdIWhZQ</td>\n",
       "      <td>6</td>\n",
       "      <td>3.0</td>\n",
       "    </tr>\n",
       "    <tr>\n",
       "      <th>2</th>\n",
       "      <td>--30_8IhuyMHbSOcNWd6DQ</td>\n",
       "      <td>1</td>\n",
       "      <td>3.5</td>\n",
       "    </tr>\n",
       "    <tr>\n",
       "      <th>3</th>\n",
       "      <td>--7PUidqRWpRSpXebiyxTg</td>\n",
       "      <td>3</td>\n",
       "      <td>2.0</td>\n",
       "    </tr>\n",
       "    <tr>\n",
       "      <th>4</th>\n",
       "      <td>--8IbOsAAxjKRoYsBFL-PA</td>\n",
       "      <td>4</td>\n",
       "      <td>3.0</td>\n",
       "    </tr>\n",
       "  </tbody>\n",
       "</table>\n",
       "</div>"
      ],
      "text/plain": [
       "              business_id  total_comments  stars\n",
       "0  ---kPU91CF4Lq2-WlRu9Lw               4    4.5\n",
       "1  --0iUa4sNDFiZFrAdIWhZQ               6    3.0\n",
       "2  --30_8IhuyMHbSOcNWd6DQ               1    3.5\n",
       "3  --7PUidqRWpRSpXebiyxTg               3    2.0\n",
       "4  --8IbOsAAxjKRoYsBFL-PA               4    3.0"
      ]
     },
     "execution_count": 77,
     "metadata": {},
     "output_type": "execute_result"
    }
   ],
   "source": [
    "#Juntando os dois datasets\n",
    "df_negocios = pd.read_parquet('yelp_academic_dataset_business.parquet')\n",
    "\n",
    "df_tip_business = df_tip.groupby('business_id').agg(total_comments=('text', 'count')).reset_index()\n",
    "\n",
    "df_tip_business = df_tip_business.merge(df_negocios[['business_id', 'stars']], on='business_id', how='left')\n",
    "\n",
    "df_tip_business.head()"
   ]
  },
  {
   "cell_type": "code",
   "execution_count": 78,
   "metadata": {},
   "outputs": [
    {
     "data": {
      "image/png": "[encoded data removed]",
      "text/plain": [
       "<Figure size 640x480 with 1 Axes>"
      ]
     },
     "metadata": {},
     "output_type": "display_data"
    }
   ],
   "source": [
    "import matplotlib.pyplot as plt\n",
    "import numpy as np\n",
    "\n",
    "# Jitter para os pontos não ficarem sobrepostos\n",
    "jitter_strength = 0.1\n",
    "df_tip_business['stars_jittered'] = df_tip_business['stars'] + np.random.uniform(-jitter_strength, jitter_strength, size=df_tip_business.shape[0])\n",
    "df_tip_business['total_comments_jittered'] = df_tip_business['total_comments'] + np.random.uniform(-jitter_strength, jitter_strength, size=df_tip_business.shape[0])\n",
    "\n",
    "plt.scatter(df_tip_business['stars_jittered'], df_tip_business['total_comments_jittered'], alpha=0.5, color='blue')\n",
    "plt.title('Quantidade Total de Comentários vs. Nota Média dos Estabelecimentos (Com Jitter)')\n",
    "plt.xlabel('Nota Média (Estrelas)')\n",
    "plt.ylabel('Quantidade Total de Comentários')\n",
    "\n",
    "plt.ylim(0, 3000)\n",
    "\n",
    "plt.grid(False)\n",
    "\n",
    "plt.show()\n"
   ]
  },
  {
   "cell_type": "markdown",
   "metadata": {},
   "source": [
    "# Encontrando relação entre elogios e popularidade do ambiente\n",
    "As palavras positivas disponíveis na lista abaixo foram selecionadas através de uma nuvem com as palavras mais encontradas nos comentários do dataset."
   ]
  },
  {
   "cell_type": "code",
   "execution_count": 79,
   "metadata": {},
   "outputs": [
    {
     "data": {
      "text/html": [
       "<div>\n",
       "<style scoped>\n",
       "    .dataframe tbody tr th:only-of-type {\n",
       "        vertical-align: middle;\n",
       "    }\n",
       "\n",
       "    .dataframe tbody tr th {\n",
       "        vertical-align: top;\n",
       "    }\n",
       "\n",
       "    .dataframe thead th {\n",
       "        text-align: right;\n",
       "    }\n",
       "</style>\n",
       "<table border=\"1\" class=\"dataframe\">\n",
       "  <thead>\n",
       "    <tr style=\"text-align: right;\">\n",
       "      <th></th>\n",
       "      <th>user_id</th>\n",
       "      <th>business_id</th>\n",
       "      <th>text</th>\n",
       "      <th>date</th>\n",
       "      <th>compliment_count</th>\n",
       "      <th>positive_words_count</th>\n",
       "    </tr>\n",
       "  </thead>\n",
       "  <tbody>\n",
       "    <tr>\n",
       "      <th>0</th>\n",
       "      <td>AGNUgVwnZUey3gcPCJ76iw</td>\n",
       "      <td>3uLgwr0qeCNMjKenHJwPGQ</td>\n",
       "      <td>Avengers time with the ladies.</td>\n",
       "      <td>2012-05-18 02:17:21</td>\n",
       "      <td>0</td>\n",
       "      <td>0</td>\n",
       "    </tr>\n",
       "    <tr>\n",
       "      <th>1</th>\n",
       "      <td>NBN4MgHP9D3cw--SnauTkA</td>\n",
       "      <td>QoezRbYQncpRqyrLH6Iqjg</td>\n",
       "      <td>They have lots of good deserts and tasty cuban...</td>\n",
       "      <td>2013-02-05 18:35:10</td>\n",
       "      <td>0</td>\n",
       "      <td>1</td>\n",
       "    </tr>\n",
       "    <tr>\n",
       "      <th>2</th>\n",
       "      <td>-copOvldyKh1qr-vzkDEvw</td>\n",
       "      <td>MYoRNLb5chwjQe3c_k37Gg</td>\n",
       "      <td>It's open even when you think it isn't</td>\n",
       "      <td>2013-08-18 00:56:08</td>\n",
       "      <td>0</td>\n",
       "      <td>0</td>\n",
       "    </tr>\n",
       "    <tr>\n",
       "      <th>3</th>\n",
       "      <td>FjMQVZjSqY8syIO-53KFKw</td>\n",
       "      <td>hV-bABTK-glh5wj31ps_Jw</td>\n",
       "      <td>Very decent fried chicken</td>\n",
       "      <td>2017-06-27 23:05:38</td>\n",
       "      <td>0</td>\n",
       "      <td>0</td>\n",
       "    </tr>\n",
       "    <tr>\n",
       "      <th>4</th>\n",
       "      <td>ld0AperBXk1h6UbqmM80zw</td>\n",
       "      <td>_uN0OudeJ3Zl_tf6nxg5ww</td>\n",
       "      <td>Appetizers.. platter special for lunch</td>\n",
       "      <td>2012-10-06 19:43:09</td>\n",
       "      <td>0</td>\n",
       "      <td>0</td>\n",
       "    </tr>\n",
       "  </tbody>\n",
       "</table>\n",
       "</div>"
      ],
      "text/plain": [
       "                  user_id             business_id  \\\n",
       "0  AGNUgVwnZUey3gcPCJ76iw  3uLgwr0qeCNMjKenHJwPGQ   \n",
       "1  NBN4MgHP9D3cw--SnauTkA  QoezRbYQncpRqyrLH6Iqjg   \n",
       "2  -copOvldyKh1qr-vzkDEvw  MYoRNLb5chwjQe3c_k37Gg   \n",
       "3  FjMQVZjSqY8syIO-53KFKw  hV-bABTK-glh5wj31ps_Jw   \n",
       "4  ld0AperBXk1h6UbqmM80zw  _uN0OudeJ3Zl_tf6nxg5ww   \n",
       "\n",
       "                                                text                date  \\\n",
       "0                     Avengers time with the ladies. 2012-05-18 02:17:21   \n",
       "1  They have lots of good deserts and tasty cuban... 2013-02-05 18:35:10   \n",
       "2             It's open even when you think it isn't 2013-08-18 00:56:08   \n",
       "3                          Very decent fried chicken 2017-06-27 23:05:38   \n",
       "4             Appetizers.. platter special for lunch 2012-10-06 19:43:09   \n",
       "\n",
       "   compliment_count  positive_words_count  \n",
       "0                 0                     0  \n",
       "1                 0                     1  \n",
       "2                 0                     0  \n",
       "3                 0                     0  \n",
       "4                 0                     0  "
      ]
     },
     "execution_count": 79,
     "metadata": {},
     "output_type": "execute_result"
    }
   ],
   "source": [
    "import re\n",
    "\n",
    "positive_words = ['good', 'excellent', 'amazing', 'best', 'fantastic', 'lovely', 'awesome','nice']\n",
    "\n",
    "def count_positive_words(text):\n",
    "    words = re.findall(r'\\b\\w+\\b', text.lower())\n",
    "    return sum(1 for word in words if word in positive_words)\n",
    "\n",
    "df_tip['positive_words_count'] = df_tip['text'].apply(count_positive_words)\n",
    "\n",
    "df_tip.head()"
   ]
  }
 ],
 "metadata": {
  "kernelspec": {
   "display_name": "Python 3",
   "language": "python",
   "name": "python3"
  },
  "language_info": {
   "codemirror_mode": {
    "name": "ipython",
    "version": 3
   },
   "file_extension": ".py",
   "mimetype": "text/x-python",
   "name": "python",
   "nbconvert_exporter": "python",
   "pygments_lexer": "ipython3",
   "version": "3.11.7"
  }
 },
 "nbformat": 4,
 "nbformat_minor": 2
}
